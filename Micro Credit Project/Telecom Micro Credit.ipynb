{
 "cells": [
  {
   "cell_type": "code",
   "execution_count": 1,
   "metadata": {},
   "outputs": [],
   "source": [
    "#importing libraries\n",
    "import pandas as pd\n",
    "import numpy as np\n",
    "import matplotlib.pyplot as plt\n",
    "%matplotlib inline\n",
    "import seaborn as sns\n",
    "import warnings\n",
    "warnings.filterwarnings('ignore')\n"
   ]
  },
  {
   "cell_type": "code",
   "execution_count": 2,
   "metadata": {},
   "outputs": [
    {
     "data": {
      "text/html": [
       "<div>\n",
       "<style scoped>\n",
       "    .dataframe tbody tr th:only-of-type {\n",
       "        vertical-align: middle;\n",
       "    }\n",
       "\n",
       "    .dataframe tbody tr th {\n",
       "        vertical-align: top;\n",
       "    }\n",
       "\n",
       "    .dataframe thead th {\n",
       "        text-align: right;\n",
       "    }\n",
       "</style>\n",
       "<table border=\"1\" class=\"dataframe\">\n",
       "  <thead>\n",
       "    <tr style=\"text-align: right;\">\n",
       "      <th></th>\n",
       "      <th>Unnamed: 0</th>\n",
       "      <th>label</th>\n",
       "      <th>msisdn</th>\n",
       "      <th>aon</th>\n",
       "      <th>daily_decr30</th>\n",
       "      <th>daily_decr90</th>\n",
       "      <th>rental30</th>\n",
       "      <th>rental90</th>\n",
       "      <th>last_rech_date_ma</th>\n",
       "      <th>last_rech_date_da</th>\n",
       "      <th>...</th>\n",
       "      <th>maxamnt_loans30</th>\n",
       "      <th>medianamnt_loans30</th>\n",
       "      <th>cnt_loans90</th>\n",
       "      <th>amnt_loans90</th>\n",
       "      <th>maxamnt_loans90</th>\n",
       "      <th>medianamnt_loans90</th>\n",
       "      <th>payback30</th>\n",
       "      <th>payback90</th>\n",
       "      <th>pcircle</th>\n",
       "      <th>pdate</th>\n",
       "    </tr>\n",
       "  </thead>\n",
       "  <tbody>\n",
       "    <tr>\n",
       "      <th>0</th>\n",
       "      <td>1</td>\n",
       "      <td>0</td>\n",
       "      <td>21408I70789</td>\n",
       "      <td>272.0</td>\n",
       "      <td>3055.050000</td>\n",
       "      <td>3065.150000</td>\n",
       "      <td>220.13</td>\n",
       "      <td>260.13</td>\n",
       "      <td>2.0</td>\n",
       "      <td>0.0</td>\n",
       "      <td>...</td>\n",
       "      <td>6.0</td>\n",
       "      <td>0.0</td>\n",
       "      <td>2.0</td>\n",
       "      <td>12</td>\n",
       "      <td>6</td>\n",
       "      <td>0.0</td>\n",
       "      <td>29.000000</td>\n",
       "      <td>29.000000</td>\n",
       "      <td>UPW</td>\n",
       "      <td>2016-07-20</td>\n",
       "    </tr>\n",
       "    <tr>\n",
       "      <th>1</th>\n",
       "      <td>2</td>\n",
       "      <td>1</td>\n",
       "      <td>76462I70374</td>\n",
       "      <td>712.0</td>\n",
       "      <td>12122.000000</td>\n",
       "      <td>12124.750000</td>\n",
       "      <td>3691.26</td>\n",
       "      <td>3691.26</td>\n",
       "      <td>20.0</td>\n",
       "      <td>0.0</td>\n",
       "      <td>...</td>\n",
       "      <td>12.0</td>\n",
       "      <td>0.0</td>\n",
       "      <td>1.0</td>\n",
       "      <td>12</td>\n",
       "      <td>12</td>\n",
       "      <td>0.0</td>\n",
       "      <td>0.000000</td>\n",
       "      <td>0.000000</td>\n",
       "      <td>UPW</td>\n",
       "      <td>2016-08-10</td>\n",
       "    </tr>\n",
       "    <tr>\n",
       "      <th>2</th>\n",
       "      <td>3</td>\n",
       "      <td>1</td>\n",
       "      <td>17943I70372</td>\n",
       "      <td>535.0</td>\n",
       "      <td>1398.000000</td>\n",
       "      <td>1398.000000</td>\n",
       "      <td>900.13</td>\n",
       "      <td>900.13</td>\n",
       "      <td>3.0</td>\n",
       "      <td>0.0</td>\n",
       "      <td>...</td>\n",
       "      <td>6.0</td>\n",
       "      <td>0.0</td>\n",
       "      <td>1.0</td>\n",
       "      <td>6</td>\n",
       "      <td>6</td>\n",
       "      <td>0.0</td>\n",
       "      <td>0.000000</td>\n",
       "      <td>0.000000</td>\n",
       "      <td>UPW</td>\n",
       "      <td>2016-08-19</td>\n",
       "    </tr>\n",
       "    <tr>\n",
       "      <th>3</th>\n",
       "      <td>4</td>\n",
       "      <td>1</td>\n",
       "      <td>55773I70781</td>\n",
       "      <td>241.0</td>\n",
       "      <td>21.228000</td>\n",
       "      <td>21.228000</td>\n",
       "      <td>159.42</td>\n",
       "      <td>159.42</td>\n",
       "      <td>41.0</td>\n",
       "      <td>0.0</td>\n",
       "      <td>...</td>\n",
       "      <td>6.0</td>\n",
       "      <td>0.0</td>\n",
       "      <td>2.0</td>\n",
       "      <td>12</td>\n",
       "      <td>6</td>\n",
       "      <td>0.0</td>\n",
       "      <td>0.000000</td>\n",
       "      <td>0.000000</td>\n",
       "      <td>UPW</td>\n",
       "      <td>2016-06-06</td>\n",
       "    </tr>\n",
       "    <tr>\n",
       "      <th>4</th>\n",
       "      <td>5</td>\n",
       "      <td>1</td>\n",
       "      <td>03813I82730</td>\n",
       "      <td>947.0</td>\n",
       "      <td>150.619333</td>\n",
       "      <td>150.619333</td>\n",
       "      <td>1098.90</td>\n",
       "      <td>1098.90</td>\n",
       "      <td>4.0</td>\n",
       "      <td>0.0</td>\n",
       "      <td>...</td>\n",
       "      <td>6.0</td>\n",
       "      <td>0.0</td>\n",
       "      <td>7.0</td>\n",
       "      <td>42</td>\n",
       "      <td>6</td>\n",
       "      <td>0.0</td>\n",
       "      <td>2.333333</td>\n",
       "      <td>2.333333</td>\n",
       "      <td>UPW</td>\n",
       "      <td>2016-06-22</td>\n",
       "    </tr>\n",
       "  </tbody>\n",
       "</table>\n",
       "<p>5 rows × 37 columns</p>\n",
       "</div>"
      ],
      "text/plain": [
       "   Unnamed: 0  label       msisdn    aon  daily_decr30  daily_decr90  \\\n",
       "0           1      0  21408I70789  272.0   3055.050000   3065.150000   \n",
       "1           2      1  76462I70374  712.0  12122.000000  12124.750000   \n",
       "2           3      1  17943I70372  535.0   1398.000000   1398.000000   \n",
       "3           4      1  55773I70781  241.0     21.228000     21.228000   \n",
       "4           5      1  03813I82730  947.0    150.619333    150.619333   \n",
       "\n",
       "   rental30  rental90  last_rech_date_ma  last_rech_date_da  ...  \\\n",
       "0    220.13    260.13                2.0                0.0  ...   \n",
       "1   3691.26   3691.26               20.0                0.0  ...   \n",
       "2    900.13    900.13                3.0                0.0  ...   \n",
       "3    159.42    159.42               41.0                0.0  ...   \n",
       "4   1098.90   1098.90                4.0                0.0  ...   \n",
       "\n",
       "   maxamnt_loans30  medianamnt_loans30  cnt_loans90  amnt_loans90  \\\n",
       "0              6.0                 0.0          2.0            12   \n",
       "1             12.0                 0.0          1.0            12   \n",
       "2              6.0                 0.0          1.0             6   \n",
       "3              6.0                 0.0          2.0            12   \n",
       "4              6.0                 0.0          7.0            42   \n",
       "\n",
       "   maxamnt_loans90  medianamnt_loans90  payback30  payback90  pcircle  \\\n",
       "0                6                 0.0  29.000000  29.000000      UPW   \n",
       "1               12                 0.0   0.000000   0.000000      UPW   \n",
       "2                6                 0.0   0.000000   0.000000      UPW   \n",
       "3                6                 0.0   0.000000   0.000000      UPW   \n",
       "4                6                 0.0   2.333333   2.333333      UPW   \n",
       "\n",
       "        pdate  \n",
       "0  2016-07-20  \n",
       "1  2016-08-10  \n",
       "2  2016-08-19  \n",
       "3  2016-06-06  \n",
       "4  2016-06-22  \n",
       "\n",
       "[5 rows x 37 columns]"
      ]
     },
     "execution_count": 2,
     "metadata": {},
     "output_type": "execute_result"
    }
   ],
   "source": [
    "# Laoding the dataset\n",
    "df=pd.read_csv('Data file.csv')\n",
    "df.head()"
   ]
  },
  {
   "cell_type": "markdown",
   "metadata": {},
   "source": [
    "### Data_Description\n",
    "label : Flag indicating whether the user paid back the credit amount within 5 days of issuing the loan{1:success, 0:failure}\n",
    "\n",
    "msisdn : mobile number of user\n",
    "\n",
    "aon : age on cellular network in days\n",
    "\n",
    "daily_decr30: Daily amount spent from main account, averaged over last 30 days (in Indonesian Rupiah)\n",
    "\n",
    "daily_decr90: Daily amount spent from main account, averaged over last 90 days (in Indonesian Rupiah)\n",
    "\n",
    "rental30: Average main account balance over last 30 days\n",
    "\n",
    "rental90: Average main account balance over last 90 days\n",
    "\n",
    "last_rech_date_ma: Number of days till last recharge of main account\n",
    "\n",
    "last_rech_date_da: Number of days till last recharge of data account\n",
    "\n",
    "last_rech_amt_ma: Amount of last recharge of main account (in Indonesian Rupiah)\n",
    "\n",
    "cnt_ma_rech30: Number of times main account got recharged in last 30 days\n",
    "\n",
    "fr_ma_rech30: Frequency of main account recharged in last 30 days\n",
    "\n",
    "sumamnt_ma_rech30: Total amount of recharge in main account over last 30 days (in Indonesian Rupiah)\n",
    "\n",
    "medianamnt_ma_rech30: Median of amount of recharges done in main account over last 30 days at user level (in Indonesian Rupiah)\n",
    "\n",
    "medianmarechprebal30: Median of main account balance just before recharge in last 30 days at user level (in Indonesian Rupiah)\n",
    "\n",
    "cnt_ma_rech90: Number of times main account got recharged in last 90 days\n",
    "\n",
    "fr_ma_rech90: Frequency of main account recharged in last 90 days\n",
    "\n",
    "sumamnt_ma_rech90 : Total amount of recharge in main account over last 90 days (in Indian Rupee)\n",
    "\n",
    "medianamnt_ma_rech90: Median of amount of recharges done in main account over last 90 days at user level (in Indian Rupee)\n",
    "\n",
    "medianmarechprebal90: Median of main account balance just before recharge in last 90 days at user level (in Indian Rupee)\n",
    "\n",
    "cnt_da_rech30: Number of times data account got recharged in last 30 days\n",
    "\n",
    "fr_da_rech30: Frequency of data account recharged in last 30 days\n",
    "\n",
    "cnt_da_rech90: Number of times data account got recharged in last 90 days\n",
    "\n",
    "fr_da_rech90: Frequency of data account recharged in last 90 days\n",
    "\n",
    "cnt_loans30: Number of loans taken by user in last 30 days\n",
    "\n",
    "amnt_loans30: Total amount of loans taken by user in last 30 days\n",
    "\n",
    "maxamnt_loans30: maximum amount of loan taken by the user in last 30 days\n",
    "\n",
    "medianamnt_loans30: Median of amounts of loan taken by the user in last 30 days\n",
    "\n",
    "cnt_loans90: Number of loans taken by user in last 90 days\n",
    "\n",
    "amnt_loans90: Total amount of loans taken by user in last 90 days\n",
    "\n",
    "maxamnt_loans90: maximum amount of loan taken by the user in last 90 days\n",
    "\n",
    "medianamnt_loans90: Median of amounts of loan taken by the user in last 90 days\n",
    "\n",
    "payback30: Average payback time in days over last 30 days\n",
    "\n",
    "payback90: Average payback time in days over last 90 days\n",
    "\n",
    "pcircle: telecom circle\n",
    "\n",
    "pdate: date"
   ]
  },
  {
   "cell_type": "code",
   "execution_count": 3,
   "metadata": {},
   "outputs": [
    {
     "data": {
      "text/plain": [
       "Unnamed: 0              0\n",
       "label                   0\n",
       "msisdn                  0\n",
       "aon                     0\n",
       "daily_decr30            0\n",
       "daily_decr90            0\n",
       "rental30                0\n",
       "rental90                0\n",
       "last_rech_date_ma       0\n",
       "last_rech_date_da       0\n",
       "last_rech_amt_ma        0\n",
       "cnt_ma_rech30           0\n",
       "fr_ma_rech30            0\n",
       "sumamnt_ma_rech30       0\n",
       "medianamnt_ma_rech30    0\n",
       "medianmarechprebal30    0\n",
       "cnt_ma_rech90           0\n",
       "fr_ma_rech90            0\n",
       "sumamnt_ma_rech90       0\n",
       "medianamnt_ma_rech90    0\n",
       "medianmarechprebal90    0\n",
       "cnt_da_rech30           0\n",
       "fr_da_rech30            0\n",
       "cnt_da_rech90           0\n",
       "fr_da_rech90            0\n",
       "cnt_loans30             0\n",
       "amnt_loans30            0\n",
       "maxamnt_loans30         0\n",
       "medianamnt_loans30      0\n",
       "cnt_loans90             0\n",
       "amnt_loans90            0\n",
       "maxamnt_loans90         0\n",
       "medianamnt_loans90      0\n",
       "payback30               0\n",
       "payback90               0\n",
       "pcircle                 0\n",
       "pdate                   0\n",
       "dtype: int64"
      ]
     },
     "execution_count": 3,
     "metadata": {},
     "output_type": "execute_result"
    }
   ],
   "source": [
    "#checking null values\n",
    "df.isnull().sum()"
   ]
  },
  {
   "cell_type": "code",
   "execution_count": 4,
   "metadata": {},
   "outputs": [
    {
     "name": "stdout",
     "output_type": "stream",
     "text": [
      "<class 'pandas.core.frame.DataFrame'>\n",
      "RangeIndex: 209593 entries, 0 to 209592\n",
      "Data columns (total 37 columns):\n",
      " #   Column                Non-Null Count   Dtype  \n",
      "---  ------                --------------   -----  \n",
      " 0   Unnamed: 0            209593 non-null  int64  \n",
      " 1   label                 209593 non-null  int64  \n",
      " 2   msisdn                209593 non-null  object \n",
      " 3   aon                   209593 non-null  float64\n",
      " 4   daily_decr30          209593 non-null  float64\n",
      " 5   daily_decr90          209593 non-null  float64\n",
      " 6   rental30              209593 non-null  float64\n",
      " 7   rental90              209593 non-null  float64\n",
      " 8   last_rech_date_ma     209593 non-null  float64\n",
      " 9   last_rech_date_da     209593 non-null  float64\n",
      " 10  last_rech_amt_ma      209593 non-null  int64  \n",
      " 11  cnt_ma_rech30         209593 non-null  int64  \n",
      " 12  fr_ma_rech30          209593 non-null  float64\n",
      " 13  sumamnt_ma_rech30     209593 non-null  float64\n",
      " 14  medianamnt_ma_rech30  209593 non-null  float64\n",
      " 15  medianmarechprebal30  209593 non-null  float64\n",
      " 16  cnt_ma_rech90         209593 non-null  int64  \n",
      " 17  fr_ma_rech90          209593 non-null  int64  \n",
      " 18  sumamnt_ma_rech90     209593 non-null  int64  \n",
      " 19  medianamnt_ma_rech90  209593 non-null  float64\n",
      " 20  medianmarechprebal90  209593 non-null  float64\n",
      " 21  cnt_da_rech30         209593 non-null  float64\n",
      " 22  fr_da_rech30          209593 non-null  float64\n",
      " 23  cnt_da_rech90         209593 non-null  int64  \n",
      " 24  fr_da_rech90          209593 non-null  int64  \n",
      " 25  cnt_loans30           209593 non-null  int64  \n",
      " 26  amnt_loans30          209593 non-null  int64  \n",
      " 27  maxamnt_loans30       209593 non-null  float64\n",
      " 28  medianamnt_loans30    209593 non-null  float64\n",
      " 29  cnt_loans90           209593 non-null  float64\n",
      " 30  amnt_loans90          209593 non-null  int64  \n",
      " 31  maxamnt_loans90       209593 non-null  int64  \n",
      " 32  medianamnt_loans90    209593 non-null  float64\n",
      " 33  payback30             209593 non-null  float64\n",
      " 34  payback90             209593 non-null  float64\n",
      " 35  pcircle               209593 non-null  object \n",
      " 36  pdate                 209593 non-null  object \n",
      "dtypes: float64(21), int64(13), object(3)\n",
      "memory usage: 59.2+ MB\n"
     ]
    }
   ],
   "source": [
    "df.info()"
   ]
  },
  {
   "cell_type": "code",
   "execution_count": 5,
   "metadata": {},
   "outputs": [
    {
     "data": {
      "text/html": [
       "<div>\n",
       "<style scoped>\n",
       "    .dataframe tbody tr th:only-of-type {\n",
       "        vertical-align: middle;\n",
       "    }\n",
       "\n",
       "    .dataframe tbody tr th {\n",
       "        vertical-align: top;\n",
       "    }\n",
       "\n",
       "    .dataframe thead th {\n",
       "        text-align: right;\n",
       "    }\n",
       "</style>\n",
       "<table border=\"1\" class=\"dataframe\">\n",
       "  <thead>\n",
       "    <tr style=\"text-align: right;\">\n",
       "      <th></th>\n",
       "      <th>Unnamed: 0</th>\n",
       "      <th>label</th>\n",
       "      <th>aon</th>\n",
       "      <th>daily_decr30</th>\n",
       "      <th>daily_decr90</th>\n",
       "      <th>rental30</th>\n",
       "      <th>rental90</th>\n",
       "      <th>last_rech_date_ma</th>\n",
       "      <th>last_rech_date_da</th>\n",
       "      <th>last_rech_amt_ma</th>\n",
       "      <th>...</th>\n",
       "      <th>cnt_loans30</th>\n",
       "      <th>amnt_loans30</th>\n",
       "      <th>maxamnt_loans30</th>\n",
       "      <th>medianamnt_loans30</th>\n",
       "      <th>cnt_loans90</th>\n",
       "      <th>amnt_loans90</th>\n",
       "      <th>maxamnt_loans90</th>\n",
       "      <th>medianamnt_loans90</th>\n",
       "      <th>payback30</th>\n",
       "      <th>payback90</th>\n",
       "    </tr>\n",
       "  </thead>\n",
       "  <tbody>\n",
       "    <tr>\n",
       "      <th>count</th>\n",
       "      <td>209593.000000</td>\n",
       "      <td>209593.000000</td>\n",
       "      <td>209593.000000</td>\n",
       "      <td>209593.000000</td>\n",
       "      <td>209593.000000</td>\n",
       "      <td>209593.000000</td>\n",
       "      <td>209593.000000</td>\n",
       "      <td>209593.000000</td>\n",
       "      <td>209593.000000</td>\n",
       "      <td>209593.000000</td>\n",
       "      <td>...</td>\n",
       "      <td>209593.000000</td>\n",
       "      <td>209593.000000</td>\n",
       "      <td>209593.000000</td>\n",
       "      <td>209593.000000</td>\n",
       "      <td>209593.000000</td>\n",
       "      <td>209593.000000</td>\n",
       "      <td>209593.000000</td>\n",
       "      <td>209593.000000</td>\n",
       "      <td>209593.000000</td>\n",
       "      <td>209593.000000</td>\n",
       "    </tr>\n",
       "    <tr>\n",
       "      <th>mean</th>\n",
       "      <td>104797.000000</td>\n",
       "      <td>0.875177</td>\n",
       "      <td>8112.343445</td>\n",
       "      <td>5381.402289</td>\n",
       "      <td>6082.515068</td>\n",
       "      <td>2692.581910</td>\n",
       "      <td>3483.406534</td>\n",
       "      <td>3755.847800</td>\n",
       "      <td>3712.202921</td>\n",
       "      <td>2064.452797</td>\n",
       "      <td>...</td>\n",
       "      <td>2.758981</td>\n",
       "      <td>17.952021</td>\n",
       "      <td>274.658747</td>\n",
       "      <td>0.054029</td>\n",
       "      <td>18.520919</td>\n",
       "      <td>23.645398</td>\n",
       "      <td>6.703134</td>\n",
       "      <td>0.046077</td>\n",
       "      <td>3.398826</td>\n",
       "      <td>4.321485</td>\n",
       "    </tr>\n",
       "    <tr>\n",
       "      <th>std</th>\n",
       "      <td>60504.431823</td>\n",
       "      <td>0.330519</td>\n",
       "      <td>75696.082531</td>\n",
       "      <td>9220.623400</td>\n",
       "      <td>10918.812767</td>\n",
       "      <td>4308.586781</td>\n",
       "      <td>5770.461279</td>\n",
       "      <td>53905.892230</td>\n",
       "      <td>53374.833430</td>\n",
       "      <td>2370.786034</td>\n",
       "      <td>...</td>\n",
       "      <td>2.554502</td>\n",
       "      <td>17.379741</td>\n",
       "      <td>4245.264648</td>\n",
       "      <td>0.218039</td>\n",
       "      <td>224.797423</td>\n",
       "      <td>26.469861</td>\n",
       "      <td>2.103864</td>\n",
       "      <td>0.200692</td>\n",
       "      <td>8.813729</td>\n",
       "      <td>10.308108</td>\n",
       "    </tr>\n",
       "    <tr>\n",
       "      <th>min</th>\n",
       "      <td>1.000000</td>\n",
       "      <td>0.000000</td>\n",
       "      <td>-48.000000</td>\n",
       "      <td>-93.012667</td>\n",
       "      <td>-93.012667</td>\n",
       "      <td>-23737.140000</td>\n",
       "      <td>-24720.580000</td>\n",
       "      <td>-29.000000</td>\n",
       "      <td>-29.000000</td>\n",
       "      <td>0.000000</td>\n",
       "      <td>...</td>\n",
       "      <td>0.000000</td>\n",
       "      <td>0.000000</td>\n",
       "      <td>0.000000</td>\n",
       "      <td>0.000000</td>\n",
       "      <td>0.000000</td>\n",
       "      <td>0.000000</td>\n",
       "      <td>0.000000</td>\n",
       "      <td>0.000000</td>\n",
       "      <td>0.000000</td>\n",
       "      <td>0.000000</td>\n",
       "    </tr>\n",
       "    <tr>\n",
       "      <th>25%</th>\n",
       "      <td>52399.000000</td>\n",
       "      <td>1.000000</td>\n",
       "      <td>246.000000</td>\n",
       "      <td>42.440000</td>\n",
       "      <td>42.692000</td>\n",
       "      <td>280.420000</td>\n",
       "      <td>300.260000</td>\n",
       "      <td>1.000000</td>\n",
       "      <td>0.000000</td>\n",
       "      <td>770.000000</td>\n",
       "      <td>...</td>\n",
       "      <td>1.000000</td>\n",
       "      <td>6.000000</td>\n",
       "      <td>6.000000</td>\n",
       "      <td>0.000000</td>\n",
       "      <td>1.000000</td>\n",
       "      <td>6.000000</td>\n",
       "      <td>6.000000</td>\n",
       "      <td>0.000000</td>\n",
       "      <td>0.000000</td>\n",
       "      <td>0.000000</td>\n",
       "    </tr>\n",
       "    <tr>\n",
       "      <th>50%</th>\n",
       "      <td>104797.000000</td>\n",
       "      <td>1.000000</td>\n",
       "      <td>527.000000</td>\n",
       "      <td>1469.175667</td>\n",
       "      <td>1500.000000</td>\n",
       "      <td>1083.570000</td>\n",
       "      <td>1334.000000</td>\n",
       "      <td>3.000000</td>\n",
       "      <td>0.000000</td>\n",
       "      <td>1539.000000</td>\n",
       "      <td>...</td>\n",
       "      <td>2.000000</td>\n",
       "      <td>12.000000</td>\n",
       "      <td>6.000000</td>\n",
       "      <td>0.000000</td>\n",
       "      <td>2.000000</td>\n",
       "      <td>12.000000</td>\n",
       "      <td>6.000000</td>\n",
       "      <td>0.000000</td>\n",
       "      <td>0.000000</td>\n",
       "      <td>1.666667</td>\n",
       "    </tr>\n",
       "    <tr>\n",
       "      <th>75%</th>\n",
       "      <td>157195.000000</td>\n",
       "      <td>1.000000</td>\n",
       "      <td>982.000000</td>\n",
       "      <td>7244.000000</td>\n",
       "      <td>7802.790000</td>\n",
       "      <td>3356.940000</td>\n",
       "      <td>4201.790000</td>\n",
       "      <td>7.000000</td>\n",
       "      <td>0.000000</td>\n",
       "      <td>2309.000000</td>\n",
       "      <td>...</td>\n",
       "      <td>4.000000</td>\n",
       "      <td>24.000000</td>\n",
       "      <td>6.000000</td>\n",
       "      <td>0.000000</td>\n",
       "      <td>5.000000</td>\n",
       "      <td>30.000000</td>\n",
       "      <td>6.000000</td>\n",
       "      <td>0.000000</td>\n",
       "      <td>3.750000</td>\n",
       "      <td>4.500000</td>\n",
       "    </tr>\n",
       "    <tr>\n",
       "      <th>max</th>\n",
       "      <td>209593.000000</td>\n",
       "      <td>1.000000</td>\n",
       "      <td>999860.755168</td>\n",
       "      <td>265926.000000</td>\n",
       "      <td>320630.000000</td>\n",
       "      <td>198926.110000</td>\n",
       "      <td>200148.110000</td>\n",
       "      <td>998650.377733</td>\n",
       "      <td>999171.809410</td>\n",
       "      <td>55000.000000</td>\n",
       "      <td>...</td>\n",
       "      <td>50.000000</td>\n",
       "      <td>306.000000</td>\n",
       "      <td>99864.560864</td>\n",
       "      <td>3.000000</td>\n",
       "      <td>4997.517944</td>\n",
       "      <td>438.000000</td>\n",
       "      <td>12.000000</td>\n",
       "      <td>3.000000</td>\n",
       "      <td>171.500000</td>\n",
       "      <td>171.500000</td>\n",
       "    </tr>\n",
       "  </tbody>\n",
       "</table>\n",
       "<p>8 rows × 34 columns</p>\n",
       "</div>"
      ],
      "text/plain": [
       "          Unnamed: 0          label            aon   daily_decr30  \\\n",
       "count  209593.000000  209593.000000  209593.000000  209593.000000   \n",
       "mean   104797.000000       0.875177    8112.343445    5381.402289   \n",
       "std     60504.431823       0.330519   75696.082531    9220.623400   \n",
       "min         1.000000       0.000000     -48.000000     -93.012667   \n",
       "25%     52399.000000       1.000000     246.000000      42.440000   \n",
       "50%    104797.000000       1.000000     527.000000    1469.175667   \n",
       "75%    157195.000000       1.000000     982.000000    7244.000000   \n",
       "max    209593.000000       1.000000  999860.755168  265926.000000   \n",
       "\n",
       "        daily_decr90       rental30       rental90  last_rech_date_ma  \\\n",
       "count  209593.000000  209593.000000  209593.000000      209593.000000   \n",
       "mean     6082.515068    2692.581910    3483.406534        3755.847800   \n",
       "std     10918.812767    4308.586781    5770.461279       53905.892230   \n",
       "min       -93.012667  -23737.140000  -24720.580000         -29.000000   \n",
       "25%        42.692000     280.420000     300.260000           1.000000   \n",
       "50%      1500.000000    1083.570000    1334.000000           3.000000   \n",
       "75%      7802.790000    3356.940000    4201.790000           7.000000   \n",
       "max    320630.000000  198926.110000  200148.110000      998650.377733   \n",
       "\n",
       "       last_rech_date_da  last_rech_amt_ma  ...    cnt_loans30   amnt_loans30  \\\n",
       "count      209593.000000     209593.000000  ...  209593.000000  209593.000000   \n",
       "mean         3712.202921       2064.452797  ...       2.758981      17.952021   \n",
       "std         53374.833430       2370.786034  ...       2.554502      17.379741   \n",
       "min           -29.000000          0.000000  ...       0.000000       0.000000   \n",
       "25%             0.000000        770.000000  ...       1.000000       6.000000   \n",
       "50%             0.000000       1539.000000  ...       2.000000      12.000000   \n",
       "75%             0.000000       2309.000000  ...       4.000000      24.000000   \n",
       "max        999171.809410      55000.000000  ...      50.000000     306.000000   \n",
       "\n",
       "       maxamnt_loans30  medianamnt_loans30    cnt_loans90   amnt_loans90  \\\n",
       "count    209593.000000       209593.000000  209593.000000  209593.000000   \n",
       "mean        274.658747            0.054029      18.520919      23.645398   \n",
       "std        4245.264648            0.218039     224.797423      26.469861   \n",
       "min           0.000000            0.000000       0.000000       0.000000   \n",
       "25%           6.000000            0.000000       1.000000       6.000000   \n",
       "50%           6.000000            0.000000       2.000000      12.000000   \n",
       "75%           6.000000            0.000000       5.000000      30.000000   \n",
       "max       99864.560864            3.000000    4997.517944     438.000000   \n",
       "\n",
       "       maxamnt_loans90  medianamnt_loans90      payback30      payback90  \n",
       "count    209593.000000       209593.000000  209593.000000  209593.000000  \n",
       "mean          6.703134            0.046077       3.398826       4.321485  \n",
       "std           2.103864            0.200692       8.813729      10.308108  \n",
       "min           0.000000            0.000000       0.000000       0.000000  \n",
       "25%           6.000000            0.000000       0.000000       0.000000  \n",
       "50%           6.000000            0.000000       0.000000       1.666667  \n",
       "75%           6.000000            0.000000       3.750000       4.500000  \n",
       "max          12.000000            3.000000     171.500000     171.500000  \n",
       "\n",
       "[8 rows x 34 columns]"
      ]
     },
     "execution_count": 5,
     "metadata": {},
     "output_type": "execute_result"
    }
   ],
   "source": [
    "df.describe()"
   ]
  },
  {
   "cell_type": "markdown",
   "metadata": {},
   "source": [
    "From the above we can see that the Aon has outliers as max value is too high and min value is negative which is not possible, for all the features we can see that the min value is negative which is not even possible for most of the features like daily recharge and main account balance, and last recharge can't be negative."
   ]
  },
  {
   "cell_type": "markdown",
   "metadata": {},
   "source": [
    "### EDA"
   ]
  },
  {
   "cell_type": "code",
   "execution_count": 6,
   "metadata": {},
   "outputs": [],
   "source": [
    "#Creating balance Groups for our visiualization\n",
    "lst = [df]\n",
    "for column in lst:\n",
    "    column.loc[column[\"rental30\"] <= 0,  'balance_group'] = 'no balance'\n",
    "    column.loc[(column[\"rental30\"] > 0) & (column[\"rental30\"] <= 19766), 'balance_group'] = 'low balance'\n",
    "    column.loc[(column[\"rental30\"] > 19766) & (column[\"rental30\"] <= 118572), 'balance_group'] = 'average balance'\n",
    "    column.loc[(column[\"rental30\"] > 118572), 'balance_group'] = 'high balance'"
   ]
  },
  {
   "cell_type": "code",
   "execution_count": 7,
   "metadata": {},
   "outputs": [],
   "source": [
    "# Mapping balance groups with precentage value with respect to label \n",
    "count_balance_response = pd.crosstab(df['label'],df['balance_group']).apply(lambda x: x/x.sum()*100)\n",
    "count_balance_response = count_balance_response.transpose()"
   ]
  },
  {
   "cell_type": "code",
   "execution_count": 8,
   "metadata": {},
   "outputs": [
    {
     "data": {
      "text/html": [
       "<div>\n",
       "<style scoped>\n",
       "    .dataframe tbody tr th:only-of-type {\n",
       "        vertical-align: middle;\n",
       "    }\n",
       "\n",
       "    .dataframe tbody tr th {\n",
       "        vertical-align: top;\n",
       "    }\n",
       "\n",
       "    .dataframe thead th {\n",
       "        text-align: right;\n",
       "    }\n",
       "</style>\n",
       "<table border=\"1\" class=\"dataframe\">\n",
       "  <thead>\n",
       "    <tr style=\"text-align: right;\">\n",
       "      <th>label</th>\n",
       "      <th>0</th>\n",
       "      <th>1</th>\n",
       "    </tr>\n",
       "    <tr>\n",
       "      <th>balance_group</th>\n",
       "      <th></th>\n",
       "      <th></th>\n",
       "    </tr>\n",
       "  </thead>\n",
       "  <tbody>\n",
       "    <tr>\n",
       "      <th>average balance</th>\n",
       "      <td>9.436834</td>\n",
       "      <td>90.563166</td>\n",
       "    </tr>\n",
       "    <tr>\n",
       "      <th>high balance</th>\n",
       "      <td>0.000000</td>\n",
       "      <td>100.000000</td>\n",
       "    </tr>\n",
       "    <tr>\n",
       "      <th>low balance</th>\n",
       "      <td>11.276328</td>\n",
       "      <td>88.723672</td>\n",
       "    </tr>\n",
       "    <tr>\n",
       "      <th>no balance</th>\n",
       "      <td>30.710929</td>\n",
       "      <td>69.289071</td>\n",
       "    </tr>\n",
       "  </tbody>\n",
       "</table>\n",
       "</div>"
      ],
      "text/plain": [
       "label                    0           1\n",
       "balance_group                         \n",
       "average balance   9.436834   90.563166\n",
       "high balance      0.000000  100.000000\n",
       "low balance      11.276328   88.723672\n",
       "no balance       30.710929   69.289071"
      ]
     },
     "execution_count": 8,
     "metadata": {},
     "output_type": "execute_result"
    }
   ],
   "source": [
    "count_balance_response"
   ]
  },
  {
   "cell_type": "code",
   "execution_count": 9,
   "metadata": {},
   "outputs": [],
   "source": [
    "bal = pd.DataFrame(df['balance_group'].value_counts())\n",
    "bal['subscription%'] = count_balance_response[1]\n",
    "bal.drop('balance_group',axis=1,inplace=True)\n",
    "bal['bal']= [1,0,2,3]\n",
    "bal = bal.sort_values('bal',ascending = True)"
   ]
  },
  {
   "cell_type": "code",
   "execution_count": 10,
   "metadata": {},
   "outputs": [
    {
     "data": {
      "text/html": [
       "<div>\n",
       "<style scoped>\n",
       "    .dataframe tbody tr th:only-of-type {\n",
       "        vertical-align: middle;\n",
       "    }\n",
       "\n",
       "    .dataframe tbody tr th {\n",
       "        vertical-align: top;\n",
       "    }\n",
       "\n",
       "    .dataframe thead th {\n",
       "        text-align: right;\n",
       "    }\n",
       "</style>\n",
       "<table border=\"1\" class=\"dataframe\">\n",
       "  <thead>\n",
       "    <tr style=\"text-align: right;\">\n",
       "      <th></th>\n",
       "      <th>subscription%</th>\n",
       "      <th>bal</th>\n",
       "    </tr>\n",
       "  </thead>\n",
       "  <tbody>\n",
       "    <tr>\n",
       "      <th>no balance</th>\n",
       "      <td>69.289071</td>\n",
       "      <td>0</td>\n",
       "    </tr>\n",
       "    <tr>\n",
       "      <th>low balance</th>\n",
       "      <td>88.723672</td>\n",
       "      <td>1</td>\n",
       "    </tr>\n",
       "    <tr>\n",
       "      <th>average balance</th>\n",
       "      <td>90.563166</td>\n",
       "      <td>2</td>\n",
       "    </tr>\n",
       "    <tr>\n",
       "      <th>high balance</th>\n",
       "      <td>100.000000</td>\n",
       "      <td>3</td>\n",
       "    </tr>\n",
       "  </tbody>\n",
       "</table>\n",
       "</div>"
      ],
      "text/plain": [
       "                 subscription%  bal\n",
       "no balance           69.289071    0\n",
       "low balance          88.723672    1\n",
       "average balance      90.563166    2\n",
       "high balance        100.000000    3"
      ]
     },
     "execution_count": 10,
     "metadata": {},
     "output_type": "execute_result"
    }
   ],
   "source": [
    "bal"
   ]
  },
  {
   "cell_type": "code",
   "execution_count": 11,
   "metadata": {},
   "outputs": [
    {
     "data": {
      "image/png": "[encoded data removed]",
      "text/plain": [
       "<Figure size 576x432 with 1 Axes>"
      ]
     },
     "metadata": {
      "needs_background": "light"
     },
     "output_type": "display_data"
    }
   ],
   "source": [
    "## Plotting the graph\n",
    "plot_fre = bal['subscription%'].plot(kind = 'bar',\n",
    "                                               color = ('Red'),\n",
    "                                               figsize = (8,6))\n",
    "\n",
    "plt.title('Frequency of main account recharged in last 30 days vs loan pay back rate with in 5 days')\n",
    "plt.ylabel('Loan pay back rate with in 5 days')\n",
    "plt.xlabel('Frequency Category (fr_ma_rech30)')\n",
    "plt.xticks(rotation = 'horizontal')\n",
    "\n",
    "# label the bar\n",
    "for rec, label in zip(plot_fre.patches,\n",
    "                      bal['subscription%'].round(2).astype(str)):\n",
    "    plot_fre.text(rec.get_x() + rec.get_width()/2, \n",
    "                      rec.get_height() + 1, \n",
    "                      label+'%',  \n",
    "                      ha = 'center', \n",
    "                      color = 'black')"
   ]
  },
  {
   "cell_type": "markdown",
   "metadata": {},
   "source": [
    "From the above we can see that users with high balance always pays back the loan within 5 days and average and low category only 9% - 12% users failed to payback the loan within 5%, and users with zero balance around 30% users are not paying the loan back within 5 days."
   ]
  },
  {
   "cell_type": "code",
   "execution_count": 12,
   "metadata": {},
   "outputs": [],
   "source": [
    "#Creating Frequency Groups for our visiualization\n",
    "lst1 = [df]\n",
    "for column in lst1:\n",
    "    column.loc[column['fr_ma_rech30'] <=0, 'frequency_group'] = 'no_frequency'\n",
    "    column.loc[(column['fr_ma_rech30'] >0) & (column['fr_ma_rech30'] >=1), 'frequency_group'] = 'low_frequency'\n",
    "    column.loc[(column['fr_ma_rech30'] >1) & (column['fr_ma_rech30'] >=2), 'frequency_group'] = 'avg_frequency'\n",
    "    column.loc[column['fr_ma_rech30'] >2, 'frequency_group'] = 'high_frequency'\n",
    "    "
   ]
  },
  {
   "cell_type": "code",
   "execution_count": 13,
   "metadata": {},
   "outputs": [
    {
     "data": {
      "text/html": [
       "<div>\n",
       "<style scoped>\n",
       "    .dataframe tbody tr th:only-of-type {\n",
       "        vertical-align: middle;\n",
       "    }\n",
       "\n",
       "    .dataframe tbody tr th {\n",
       "        vertical-align: top;\n",
       "    }\n",
       "\n",
       "    .dataframe thead th {\n",
       "        text-align: right;\n",
       "    }\n",
       "</style>\n",
       "<table border=\"1\" class=\"dataframe\">\n",
       "  <thead>\n",
       "    <tr style=\"text-align: right;\">\n",
       "      <th>label</th>\n",
       "      <th>0</th>\n",
       "      <th>1</th>\n",
       "    </tr>\n",
       "    <tr>\n",
       "      <th>frequency_group</th>\n",
       "      <th></th>\n",
       "      <th></th>\n",
       "    </tr>\n",
       "  </thead>\n",
       "  <tbody>\n",
       "    <tr>\n",
       "      <th>avg_frequency</th>\n",
       "      <td>3.787999</td>\n",
       "      <td>96.212001</td>\n",
       "    </tr>\n",
       "    <tr>\n",
       "      <th>high_frequency</th>\n",
       "      <td>5.481040</td>\n",
       "      <td>94.518960</td>\n",
       "    </tr>\n",
       "    <tr>\n",
       "      <th>low_frequency</th>\n",
       "      <td>4.304873</td>\n",
       "      <td>95.695127</td>\n",
       "    </tr>\n",
       "    <tr>\n",
       "      <th>no_frequency</th>\n",
       "      <td>24.870684</td>\n",
       "      <td>75.129316</td>\n",
       "    </tr>\n",
       "  </tbody>\n",
       "</table>\n",
       "</div>"
      ],
      "text/plain": [
       "label                    0          1\n",
       "frequency_group                      \n",
       "avg_frequency     3.787999  96.212001\n",
       "high_frequency    5.481040  94.518960\n",
       "low_frequency     4.304873  95.695127\n",
       "no_frequency     24.870684  75.129316"
      ]
     },
     "execution_count": 13,
     "metadata": {},
     "output_type": "execute_result"
    }
   ],
   "source": [
    "#mapping the frequency groups\n",
    "count_freq_response=pd.crosstab(df['label'],df['frequency_group']).apply(lambda x: x/x.sum()*100)\n",
    "count_freq_response=count_freq_response.transpose()\n",
    "count_freq_response"
   ]
  },
  {
   "cell_type": "code",
   "execution_count": 14,
   "metadata": {},
   "outputs": [
    {
     "data": {
      "text/html": [
       "<div>\n",
       "<style scoped>\n",
       "    .dataframe tbody tr th:only-of-type {\n",
       "        vertical-align: middle;\n",
       "    }\n",
       "\n",
       "    .dataframe tbody tr th {\n",
       "        vertical-align: top;\n",
       "    }\n",
       "\n",
       "    .dataframe thead th {\n",
       "        text-align: right;\n",
       "    }\n",
       "</style>\n",
       "<table border=\"1\" class=\"dataframe\">\n",
       "  <thead>\n",
       "    <tr style=\"text-align: right;\">\n",
       "      <th></th>\n",
       "      <th>subs%</th>\n",
       "      <th>Freq</th>\n",
       "    </tr>\n",
       "  </thead>\n",
       "  <tbody>\n",
       "    <tr>\n",
       "      <th>no_frequency</th>\n",
       "      <td>75.129316</td>\n",
       "      <td>0</td>\n",
       "    </tr>\n",
       "    <tr>\n",
       "      <th>low_frequency</th>\n",
       "      <td>95.695127</td>\n",
       "      <td>1</td>\n",
       "    </tr>\n",
       "    <tr>\n",
       "      <th>avg_frequency</th>\n",
       "      <td>96.212001</td>\n",
       "      <td>2</td>\n",
       "    </tr>\n",
       "    <tr>\n",
       "      <th>high_frequency</th>\n",
       "      <td>94.518960</td>\n",
       "      <td>3</td>\n",
       "    </tr>\n",
       "  </tbody>\n",
       "</table>\n",
       "</div>"
      ],
      "text/plain": [
       "                    subs%  Freq\n",
       "no_frequency    75.129316     0\n",
       "low_frequency   95.695127     1\n",
       "avg_frequency   96.212001     2\n",
       "high_frequency  94.518960     3"
      ]
     },
     "execution_count": 14,
     "metadata": {},
     "output_type": "execute_result"
    }
   ],
   "source": [
    "##Creating seperate samll dataframe for visualization\n",
    "freq= pd.DataFrame(df['frequency_group'].value_counts())\n",
    "freq['subs%']= count_freq_response[1]\n",
    "freq.drop('frequency_group', axis=1, inplace= True)\n",
    "freq['Freq'] = [3,0,1,2]\n",
    "freq = freq.sort_values('Freq', ascending= True)\n",
    "freq"
   ]
  },
  {
   "cell_type": "code",
   "execution_count": 15,
   "metadata": {},
   "outputs": [
    {
     "data": {
      "image/png": "[encoded data removed]",
      "text/plain": [
       "<Figure size 576x504 with 1 Axes>"
      ]
     },
     "metadata": {
      "needs_background": "light"
     },
     "output_type": "display_data"
    }
   ],
   "source": [
    "## plotting the graph\n",
    "plot_freq = freq['subs%'].plot(kind='barh', color = ('chartreuse'), figsize = (8,7))\n",
    "plt.title('Frequency of main account recharged in last 30 days VS loan payback with in 5 days')\n",
    "plt.ylabel('Frequency Category (fr_ma_rech30)')\n",
    "plt.xlabel('Loan payback within 5 days')\n",
    "plt.xticks(rotation= 'horizontal')\n",
    "## Labeling the bar\n",
    "for re, label in zip(plot_freq.patches,freq['subs%'].sort_values(ascending = True).round(2).astype(str)):\n",
    "    plot_freq.text(re.get_width()-5,\n",
    "                       re.get_y()+re.get_height()-0.3,\n",
    "                       label+'%',\n",
    "                       ha = 'center',\n",
    "                       va='bottom',\n",
    "                       color = 'black')"
   ]
  },
  {
   "cell_type": "markdown",
   "metadata": {},
   "source": [
    "From the above we can see there are no 100% rate in any frequency group to payback the loan within 5 days, and all average low and high frequency have atleast 6% to 4% users didn't payback the loan within 5 days.\n",
    "\n",
    "Comming to user have no frequency 25% users didn't payback the loan with in 5 days, till now we can see that users with no balance and no frequency are costing huge losses, company should implement some kind of strategies to reduce that like send SMS alerts for notification."
   ]
  },
  {
   "cell_type": "code",
   "execution_count": 16,
   "metadata": {},
   "outputs": [],
   "source": [
    "## Creating Frequency Group for number of loan amounts\n",
    "lst2= [df]\n",
    "for column in lst2:\n",
    "    column.loc[column['cnt_loans30'] <=0, 'loan_freq_group'] = 'no_loan'\n",
    "    column.loc[(column['cnt_loans30'] >0) & (column['cnt_loans30'] <=1), 'loan_freq_group'] = 'low_loan'\n",
    "    column.loc[(column['cnt_loans30'] >1) & (column['cnt_loans30'] <=4), 'loan_freq_group'] = 'avg_loan'\n",
    "    column.loc[(column['cnt_loans30'] >4), 'loan_freq_group'] = 'high_loan'"
   ]
  },
  {
   "cell_type": "code",
   "execution_count": 17,
   "metadata": {},
   "outputs": [
    {
     "data": {
      "text/html": [
       "<div>\n",
       "<style scoped>\n",
       "    .dataframe tbody tr th:only-of-type {\n",
       "        vertical-align: middle;\n",
       "    }\n",
       "\n",
       "    .dataframe tbody tr th {\n",
       "        vertical-align: top;\n",
       "    }\n",
       "\n",
       "    .dataframe thead th {\n",
       "        text-align: right;\n",
       "    }\n",
       "</style>\n",
       "<table border=\"1\" class=\"dataframe\">\n",
       "  <thead>\n",
       "    <tr style=\"text-align: right;\">\n",
       "      <th>label</th>\n",
       "      <th>0</th>\n",
       "      <th>1</th>\n",
       "    </tr>\n",
       "    <tr>\n",
       "      <th>loan_freq_group</th>\n",
       "      <th></th>\n",
       "      <th></th>\n",
       "    </tr>\n",
       "  </thead>\n",
       "  <tbody>\n",
       "    <tr>\n",
       "      <th>avg_loan</th>\n",
       "      <td>6.401495</td>\n",
       "      <td>93.598505</td>\n",
       "    </tr>\n",
       "    <tr>\n",
       "      <th>high_loan</th>\n",
       "      <td>1.619592</td>\n",
       "      <td>98.380408</td>\n",
       "    </tr>\n",
       "    <tr>\n",
       "      <th>low_loan</th>\n",
       "      <td>23.972816</td>\n",
       "      <td>76.027184</td>\n",
       "    </tr>\n",
       "    <tr>\n",
       "      <th>no_loan</th>\n",
       "      <td>0.000000</td>\n",
       "      <td>100.000000</td>\n",
       "    </tr>\n",
       "  </tbody>\n",
       "</table>\n",
       "</div>"
      ],
      "text/plain": [
       "label                    0           1\n",
       "loan_freq_group                       \n",
       "avg_loan          6.401495   93.598505\n",
       "high_loan         1.619592   98.380408\n",
       "low_loan         23.972816   76.027184\n",
       "no_loan           0.000000  100.000000"
      ]
     },
     "execution_count": 17,
     "metadata": {},
     "output_type": "execute_result"
    }
   ],
   "source": [
    "## mapping the laon Frequency groups to dataframe\n",
    "count_loan_response=pd.crosstab(df['label'],df['loan_freq_group']).apply(lambda x:x/x.sum()*100)\n",
    "count_loan_response=count_loan_response.transpose()\n",
    "count_loan_response"
   ]
  },
  {
   "cell_type": "code",
   "execution_count": 18,
   "metadata": {},
   "outputs": [],
   "source": [
    "##Creating seperate samll dataframe for visualization\n",
    "loan_freq = pd.DataFrame(df['loan_freq_group'].value_counts())\n",
    "loan_freq['subs%'] = count_loan_response[1]\n",
    "loan_freq.drop('loan_freq_group',axis=1, inplace=True)\n",
    "loan_freq['freq']=[2,3,1,0]\n",
    "loan_freq=loan_freq.sort_values('freq',ascending = True)"
   ]
  },
  {
   "cell_type": "code",
   "execution_count": 19,
   "metadata": {},
   "outputs": [
    {
     "data": {
      "image/png": "[encoded data removed]",
      "text/plain": [
       "<Figure size 576x432 with 1 Axes>"
      ]
     },
     "metadata": {
      "needs_background": "light"
     },
     "output_type": "display_data"
    }
   ],
   "source": [
    "## plotting the graph\n",
    "plot_freq1= loan_freq['subs%'].plot(kind= 'bar', color = ('cyan'), figsize=(8,6))\n",
    "plt.title('Number of loan taken by user in last 30 days vs loan payback rate within 5 days')\n",
    "plt.xlabel('Loan payback within 5 days')\n",
    "plt.ylabel('Number of loans(cnt_loan30)')\n",
    "plt.xticks(rotation = 'horizontal')\n",
    "\n",
    "## label the bar\n",
    "for re, label in zip(plot_freq1.patches,\n",
    "                    loan_freq['subs%'].round(2).astype(str)):\n",
    "    plot_freq1.text(re.get_x() + re.get_width()/2,\n",
    "                   re.get_height()-5,\n",
    "                    label+'%',\n",
    "                    ha='center',\n",
    "                    color='black')\n",
    "                   \n"
   ]
  },
  {
   "cell_type": "markdown",
   "metadata": {},
   "source": [
    "From the we can see that majority user who took high loans in last 30 days are more likely to payback with in 5 days and 1.62% users failed to payback within 5 days, and among average loan user 7% users failed to payback the loan within 5 days, and users with low loan have 24% didn't payback as expected might be defaulted. "
   ]
  },
  {
   "cell_type": "code",
   "execution_count": 20,
   "metadata": {},
   "outputs": [],
   "source": [
    "## Creating Frequency Group for number of loan amounts in 90 days\n",
    "lst3= [df]\n",
    "for column in lst3:\n",
    "    column.loc[column['amnt_loans90'] <=0, 'loan90_freq_group'] = 'no_loan'\n",
    "    column.loc[(column['amnt_loans90'] >0) & (column['amnt_loans90'] <=6), 'loan90_freq_group'] = 'low_loan'\n",
    "    column.loc[(column['amnt_loans90'] >6) & (column['amnt_loans90'] <=30), 'loan90_freq_group'] = 'medium_loan'\n",
    "    column.loc[column['amnt_loans90'] >30, 'loan90_freq_group'] = 'high_loan'"
   ]
  },
  {
   "cell_type": "code",
   "execution_count": 21,
   "metadata": {},
   "outputs": [
    {
     "data": {
      "text/html": [
       "<div>\n",
       "<style scoped>\n",
       "    .dataframe tbody tr th:only-of-type {\n",
       "        vertical-align: middle;\n",
       "    }\n",
       "\n",
       "    .dataframe tbody tr th {\n",
       "        vertical-align: top;\n",
       "    }\n",
       "\n",
       "    .dataframe thead th {\n",
       "        text-align: right;\n",
       "    }\n",
       "</style>\n",
       "<table border=\"1\" class=\"dataframe\">\n",
       "  <thead>\n",
       "    <tr style=\"text-align: right;\">\n",
       "      <th>label</th>\n",
       "      <th>0</th>\n",
       "      <th>1</th>\n",
       "    </tr>\n",
       "    <tr>\n",
       "      <th>loan90_freq_group</th>\n",
       "      <th></th>\n",
       "      <th></th>\n",
       "    </tr>\n",
       "  </thead>\n",
       "  <tbody>\n",
       "    <tr>\n",
       "      <th>high_loan</th>\n",
       "      <td>1.432771</td>\n",
       "      <td>98.567229</td>\n",
       "    </tr>\n",
       "    <tr>\n",
       "      <th>low_loan</th>\n",
       "      <td>27.262733</td>\n",
       "      <td>72.737267</td>\n",
       "    </tr>\n",
       "    <tr>\n",
       "      <th>medium_loan</th>\n",
       "      <td>7.197224</td>\n",
       "      <td>92.802776</td>\n",
       "    </tr>\n",
       "    <tr>\n",
       "      <th>no_loan</th>\n",
       "      <td>0.000000</td>\n",
       "      <td>100.000000</td>\n",
       "    </tr>\n",
       "  </tbody>\n",
       "</table>\n",
       "</div>"
      ],
      "text/plain": [
       "label                      0           1\n",
       "loan90_freq_group                       \n",
       "high_loan           1.432771   98.567229\n",
       "low_loan           27.262733   72.737267\n",
       "medium_loan         7.197224   92.802776\n",
       "no_loan             0.000000  100.000000"
      ]
     },
     "execution_count": 21,
     "metadata": {},
     "output_type": "execute_result"
    }
   ],
   "source": [
    "## mapping the laon Frequency groups to dataframe\n",
    "count_loan90_response=pd.crosstab(df['label'],df['loan90_freq_group']).apply(lambda x:x/x.sum()*100)\n",
    "count_loan90_response=count_loan90_response.transpose()\n",
    "count_loan90_response"
   ]
  },
  {
   "cell_type": "code",
   "execution_count": 22,
   "metadata": {},
   "outputs": [],
   "source": [
    "##Creating seperate samll dataframe for visualization\n",
    "loan90_freq = pd.DataFrame(df['loan90_freq_group'].value_counts())\n",
    "loan90_freq['subs%'] = count_loan_response[1]\n",
    "loan90_freq.drop('loan90_freq_group',axis=1, inplace=True)\n",
    "loan90_freq['freq']=[3,1,2,0]\n",
    "loan90_freq=loan_freq.sort_values('freq',ascending = True)"
   ]
  },
  {
   "cell_type": "code",
   "execution_count": 23,
   "metadata": {},
   "outputs": [
    {
     "data": {
      "image/png": "[encoded data removed]",
      "text/plain": [
       "<Figure size 576x432 with 1 Axes>"
      ]
     },
     "metadata": {
      "needs_background": "light"
     },
     "output_type": "display_data"
    }
   ],
   "source": [
    "## Plotting the graph\n",
    "plot_freq2= loan90_freq['subs%'].plot(kind='barh', color=('magenta'), figsize=(8,6))\n",
    "plt.title('Total amount of loans taken by user in 90 days VS loan payback date within 5 days')\n",
    "plt.xlabel('Number of loan(amnt_loan90)')\n",
    "plt.ylabel('Loan payback within 5 days')\n",
    "plt.xticks(rotation = 'horizontal')\n",
    "\n",
    "## label the bar\n",
    "for re, label in zip(plot_freq2.patches,loan90_freq['subs%'].sort_values(ascending = False).round(2).astype(str)):\n",
    "    plot_freq2.text(re.get_width()-5,\n",
    "                       re.get_y()+re.get_height()-0.3,\n",
    "                       label+'%',\n",
    "                       ha = 'center',\n",
    "                       va='bottom',\n",
    "                       color = 'white')\n",
    "                                      "
   ]
  },
  {
   "cell_type": "markdown",
   "metadata": {},
   "source": [
    "From the we can see that we can observe almost same results for the loan amount taken in 30 days."
   ]
  },
  {
   "cell_type": "code",
   "execution_count": 24,
   "metadata": {},
   "outputs": [
    {
     "data": {
      "text/plain": [
       "<matplotlib.axes._subplots.AxesSubplot at 0x1962bea8e08>"
      ]
     },
     "execution_count": 24,
     "metadata": {},
     "output_type": "execute_result"
    },
    {
     "data": {
      "image/png": "[encoded data removed]",
      "text/plain": [
       "<Figure size 1440x1008 with 1 Axes>"
      ]
     },
     "metadata": {
      "needs_background": "light"
     },
     "output_type": "display_data"
    }
   ],
   "source": [
    "plt.figure(figsize = (20,14))\n",
    "df.corr()['label'].sort_values().plot(kind ='bar',color='red')"
   ]
  },
  {
   "cell_type": "code",
   "execution_count": 25,
   "metadata": {},
   "outputs": [
    {
     "data": {
      "text/plain": [
       "fr_da_rech90           -0.005418\n",
       "medianmarechprebal30   -0.004829\n",
       "aon                    -0.003785\n",
       "fr_da_rech30           -0.000027\n",
       "maxamnt_loans30         0.000248\n",
       "Unnamed: 0              0.000403\n",
       "fr_ma_rech30            0.001330\n",
       "last_rech_date_da       0.001711\n",
       "cnt_da_rech90           0.002999\n",
       "last_rech_date_ma       0.003728\n",
       "cnt_da_rech30           0.003827\n",
       "cnt_loans90             0.004733\n",
       "medianamnt_loans90      0.035747\n",
       "medianmarechprebal90    0.039300\n",
       "medianamnt_loans30      0.044589\n",
       "payback30               0.048336\n",
       "payback90               0.049183\n",
       "rental30                0.058085\n",
       "rental90                0.075521\n",
       "maxamnt_loans90         0.084144\n",
       "fr_ma_rech90            0.084385\n",
       "medianamnt_ma_rech90    0.120855\n",
       "last_rech_amt_ma        0.131804\n",
       "medianamnt_ma_rech30    0.141490\n",
       "daily_decr90            0.166150\n",
       "daily_decr30            0.168298\n",
       "cnt_loans30             0.196283\n",
       "amnt_loans30            0.197272\n",
       "amnt_loans90            0.199788\n",
       "sumamnt_ma_rech30       0.202828\n",
       "sumamnt_ma_rech90       0.205793\n",
       "cnt_ma_rech90           0.236392\n",
       "cnt_ma_rech30           0.237331\n",
       "label                   1.000000\n",
       "Name: label, dtype: float64"
      ]
     },
     "execution_count": 25,
     "metadata": {},
     "output_type": "execute_result"
    }
   ],
   "source": [
    "# Checking the label corelation with other features\n",
    "df.corr()['label'].sort_values()"
   ]
  },
  {
   "cell_type": "markdown",
   "metadata": {},
   "source": [
    "From the above we can see that there are few features which are not necessary with respect to label, so we can drop them."
   ]
  },
  {
   "cell_type": "code",
   "execution_count": 26,
   "metadata": {},
   "outputs": [],
   "source": [
    "## Dropping the negative correlated feautres and extra features created for visualization\n",
    "df.drop(['msisdn', 'pcircle', 'pdate','fr_da_rech90', 'medianmarechprebal30', 'aon', 'fr_da_rech30', 'maxamnt_loans30', 'Unnamed: 0', 'balance_group', 'frequency_group', 'loan_freq_group','loan90_freq_group'],axis=1,inplace=True)\n",
    "#f.drop(['msisdn', 'pcircle', 'pdate','balance_group','frequency_group','loan_freq_group','loan90_freq_group'],axis=1,inplace=True)"
   ]
  },
  {
   "cell_type": "code",
   "execution_count": null,
   "metadata": {},
   "outputs": [],
   "source": []
  },
  {
   "cell_type": "code",
   "execution_count": 27,
   "metadata": {},
   "outputs": [
    {
     "name": "stdout",
     "output_type": "stream",
     "text": [
      "<class 'pandas.core.frame.DataFrame'>\n",
      "RangeIndex: 209593 entries, 0 to 209592\n",
      "Data columns (total 28 columns):\n",
      " #   Column                Non-Null Count   Dtype  \n",
      "---  ------                --------------   -----  \n",
      " 0   label                 209593 non-null  int64  \n",
      " 1   daily_decr30          209593 non-null  float64\n",
      " 2   daily_decr90          209593 non-null  float64\n",
      " 3   rental30              209593 non-null  float64\n",
      " 4   rental90              209593 non-null  float64\n",
      " 5   last_rech_date_ma     209593 non-null  float64\n",
      " 6   last_rech_date_da     209593 non-null  float64\n",
      " 7   last_rech_amt_ma      209593 non-null  int64  \n",
      " 8   cnt_ma_rech30         209593 non-null  int64  \n",
      " 9   fr_ma_rech30          209593 non-null  float64\n",
      " 10  sumamnt_ma_rech30     209593 non-null  float64\n",
      " 11  medianamnt_ma_rech30  209593 non-null  float64\n",
      " 12  cnt_ma_rech90         209593 non-null  int64  \n",
      " 13  fr_ma_rech90          209593 non-null  int64  \n",
      " 14  sumamnt_ma_rech90     209593 non-null  int64  \n",
      " 15  medianamnt_ma_rech90  209593 non-null  float64\n",
      " 16  medianmarechprebal90  209593 non-null  float64\n",
      " 17  cnt_da_rech30         209593 non-null  float64\n",
      " 18  cnt_da_rech90         209593 non-null  int64  \n",
      " 19  cnt_loans30           209593 non-null  int64  \n",
      " 20  amnt_loans30          209593 non-null  int64  \n",
      " 21  medianamnt_loans30    209593 non-null  float64\n",
      " 22  cnt_loans90           209593 non-null  float64\n",
      " 23  amnt_loans90          209593 non-null  int64  \n",
      " 24  maxamnt_loans90       209593 non-null  int64  \n",
      " 25  medianamnt_loans90    209593 non-null  float64\n",
      " 26  payback30             209593 non-null  float64\n",
      " 27  payback90             209593 non-null  float64\n",
      "dtypes: float64(17), int64(11)\n",
      "memory usage: 44.8 MB\n"
     ]
    }
   ],
   "source": [
    "df.info()"
   ]
  },
  {
   "cell_type": "code",
   "execution_count": 28,
   "metadata": {},
   "outputs": [
    {
     "data": {
      "image/png": "[encoded data removed]",
      "text/plain": [
       "<Figure size 1152x1440 with 24 Axes>"
      ]
     },
     "metadata": {
      "needs_background": "light"
     },
     "output_type": "display_data"
    }
   ],
   "source": [
    "columns=['daily_decr30', 'daily_decr90', 'rental30', 'rental90','last_rech_date_ma', 'last_rech_amt_ma', 'cnt_ma_rech30',\n",
    "         'fr_ma_rech30', 'sumamnt_ma_rech30', 'medianamnt_ma_rech30','cnt_ma_rech90', 'fr_ma_rech90','sumamnt_ma_rech90', \n",
    "         'medianamnt_ma_rech90', 'medianmarechprebal90','cnt_loans30', 'amnt_loans30', 'cnt_loans90', 'amnt_loans90',\n",
    "         'payback30', 'payback90']\n",
    "fig,ax = plt.subplots(8,3,figsize=(16,20))\n",
    "ax = ax.flatten()\n",
    "for i,col in enumerate(columns):\n",
    "    sns.distplot(df[col],ax=ax[i],color='cyan')\n",
    "plt.tight_layout()\n",
    "plt.show()"
   ]
  },
  {
   "cell_type": "markdown",
   "metadata": {},
   "source": [
    "From the above we can see that most of the data is rightly skewed and there are multiple outliers in most of the features, so we have to deal with these outliers.\n",
    "\n",
    "For this dataset i would chose outlier imputation technique for the features whose z-score>3, mean imputing, and also applied cube root to bring the data closer to normal distribution."
   ]
  },
  {
   "cell_type": "code",
   "execution_count": 29,
   "metadata": {},
   "outputs": [],
   "source": [
    "## Imputting outliers\n",
    "from scipy.stats import zscore\n",
    "for i in range(len(columns)):\n",
    "    df[columns[i]]=zscore(df[columns[1]])\n",
    "    for j in range(len(df[columns[i]])):\n",
    "        if df[columns[i]][j]>3 or df[columns[i]][j]<-3:\n",
    "            df[columns[i]].replace(df[columns[i]][j],df[columns[i]].median(),inplace=True)\n",
    "    df[columns[i]]=np.cbrt((df[columns[i]]))"
   ]
  },
  {
   "cell_type": "code",
   "execution_count": 30,
   "metadata": {},
   "outputs": [
    {
     "data": {
      "image/png": "[encoded data removed]",
      "text/plain": [
       "<Figure size 1152x1440 with 24 Axes>"
      ]
     },
     "metadata": {
      "needs_background": "light"
     },
     "output_type": "display_data"
    }
   ],
   "source": [
    "## Checking distribution again\n",
    "fig,ax = plt.subplots(8,3,figsize=(16,20))\n",
    "ax = ax.flatten()\n",
    "for i,col in enumerate(columns):\n",
    "    sns.distplot(df[col],ax=ax[i],color='cyan')\n",
    "plt.tight_layout()\n",
    "plt.show()"
   ]
  },
  {
   "cell_type": "code",
   "execution_count": 31,
   "metadata": {},
   "outputs": [
    {
     "name": "stdout",
     "output_type": "stream",
     "text": [
      "1    183431\n",
      "0     26162\n",
      "Name: label, dtype: int64\n"
     ]
    },
    {
     "data": {
      "image/png": "[encoded data removed]",
      "text/plain": [
       "<Figure size 1152x432 with 2 Axes>"
      ]
     },
     "metadata": {
      "needs_background": "light"
     },
     "output_type": "display_data"
    }
   ],
   "source": [
    "print(df['label'].value_counts())\n",
    "f,ax=plt.subplots(1,2,figsize=(16,6))\n",
    "labels = ['Paid within 5 days', 'failed to pay with in 5 days']\n",
    "df['label'].value_counts().plot.pie(explode=[0,0.2],autopct='%1.1f%%',ax=ax[0],shadow=True,labels=labels,fontsize=10)\n",
    "sns.countplot('label', data=df, ax=ax[1])\n",
    "ax[1].set_xticklabels(['Paid within 5 days', 'failed to pay with in 5 days'], fontsize=0)\n",
    "plt.show()"
   ]
  },
  {
   "cell_type": "markdown",
   "metadata": {},
   "source": [
    "From the above we can see that the dataset is highly imbalanced as 87% paid in 5 days, and only 12% failed to payback, so we need to work on that or else our model will be more baised towards sucess and make false interpretation."
   ]
  },
  {
   "cell_type": "markdown",
   "metadata": {},
   "source": [
    "### PCA"
   ]
  },
  {
   "cell_type": "code",
   "execution_count": 32,
   "metadata": {},
   "outputs": [],
   "source": [
    "d1=df.drop(['label'],axis=1)"
   ]
  },
  {
   "cell_type": "code",
   "execution_count": 33,
   "metadata": {},
   "outputs": [
    {
     "data": {
      "text/plain": [
       "PCA(n_components=13)"
      ]
     },
     "execution_count": 33,
     "metadata": {},
     "output_type": "execute_result"
    }
   ],
   "source": [
    "from sklearn.decomposition import PCA\n",
    "pca=PCA(n_components=13)\n",
    "pca.fit(d1)"
   ]
  },
  {
   "cell_type": "code",
   "execution_count": 34,
   "metadata": {},
   "outputs": [
    {
     "data": {
      "text/plain": [
       "(209593, 13)"
      ]
     },
     "execution_count": 34,
     "metadata": {},
     "output_type": "execute_result"
    }
   ],
   "source": [
    "df_pca=pd.DataFrame(pca.transform(d1))\n",
    "df_pca.shape"
   ]
  },
  {
   "cell_type": "code",
   "execution_count": 35,
   "metadata": {},
   "outputs": [],
   "source": [
    "x = df_pca\n",
    "y = df['label']"
   ]
  },
  {
   "cell_type": "code",
   "execution_count": 36,
   "metadata": {},
   "outputs": [],
   "source": [
    "## Handling Imbalance dataset\n",
    "from imblearn.combine import SMOTETomek"
   ]
  },
  {
   "cell_type": "code",
   "execution_count": 37,
   "metadata": {},
   "outputs": [
    {
     "data": {
      "text/plain": [
       "((325008, 13), (325008,))"
      ]
     },
     "execution_count": 37,
     "metadata": {},
     "output_type": "execute_result"
    }
   ],
   "source": [
    "smk = SMOTETomek(random_state=42)\n",
    "x_res,y_res=smk.fit_sample(x,y)\n",
    "x_res.shape, y_res.shape"
   ]
  },
  {
   "cell_type": "code",
   "execution_count": 38,
   "metadata": {},
   "outputs": [],
   "source": [
    "from sklearn.preprocessing import StandardScaler\n",
    "ss=StandardScaler()\n",
    "x=ss.fit_transform(x_res)"
   ]
  },
  {
   "cell_type": "code",
   "execution_count": 39,
   "metadata": {},
   "outputs": [],
   "source": [
    "from sklearn.model_selection import train_test_split\n",
    "x_train, x_test, y_train, y_test = train_test_split(x_res, y_res, test_size=0.3, random_state=1)"
   ]
  },
  {
   "cell_type": "code",
   "execution_count": 40,
   "metadata": {},
   "outputs": [
    {
     "name": "stdout",
     "output_type": "stream",
     "text": [
      "(227505, 13)\n",
      "(97503, 13)\n",
      "(227505,)\n",
      "(97503,)\n"
     ]
    }
   ],
   "source": [
    "print(x_train.shape)\n",
    "print(x_test.shape)\n",
    "print(y_train.shape)\n",
    "print(y_test.shape)"
   ]
  },
  {
   "cell_type": "code",
   "execution_count": 41,
   "metadata": {},
   "outputs": [],
   "source": [
    "from sklearn.metrics import confusion_matrix,classification_report,auc,roc_curve,roc_auc_score,precision_score,f1_score,accuracy_score\n",
    "from sklearn.linear_model import LogisticRegression\n",
    "from sklearn.neighbors import KNeighborsClassifier\n",
    "from sklearn.svm import SVC\n",
    "from sklearn.tree import DecisionTreeClassifier\n",
    "from sklearn.naive_bayes import GaussianNB\n",
    "import xgboost as xgb\n",
    "from sklearn.ensemble import GradientBoostingClassifier,RandomForestClassifier,AdaBoostClassifier,ExtraTreesClassifier\n",
    "from sklearn.model_selection import cross_val_score"
   ]
  },
  {
   "cell_type": "code",
   "execution_count": 42,
   "metadata": {},
   "outputs": [],
   "source": [
    "KNN=KNeighborsClassifier()\n",
    "#SV=SVC()\n",
    "XGBC=xgb.XGBClassifier()\n",
    "LR=LogisticRegression()\n",
    "DT=DecisionTreeClassifier()\n",
    "GNB=GaussianNB()\n",
    "RFC=RandomForestClassifier()\n",
    "GBC=GradientBoostingClassifier()\n",
    "ABC=AdaBoostClassifier()\n",
    "ETC=ExtraTreesClassifier()"
   ]
  },
  {
   "cell_type": "code",
   "execution_count": 43,
   "metadata": {},
   "outputs": [],
   "source": [
    "models = []\n",
    "models.append(('KNeighborsClassifier', KNN))\n",
    "#models.append(('SVC', SV))\n",
    "models.append(('XGBoostClassifier',XGBC))\n",
    "models.append(('LogisticRegression', LR))\n",
    "models.append(('DecisionTreeClassifier', DT))\n",
    "models.append(('GaussianNB', GNB))\n",
    "models.append(('RandomForestClassifier', RFC))\n",
    "models.append(('GradientBoostingClassifier', GBC))\n",
    "models.append(('ExtraTreesClassifier',ETC))\n",
    "models.append(('AdaBoostClassifier',ABC))"
   ]
  },
  {
   "cell_type": "code",
   "execution_count": null,
   "metadata": {},
   "outputs": [
    {
     "name": "stdout",
     "output_type": "stream",
     "text": [
      "*********************** KNeighborsClassifier ***********************\n",
      "\n",
      "\n",
      "KNeighborsClassifier()\n",
      "\n",
      "\n",
      "Accuracy_score =  0.8307949498989775\n",
      "\n",
      "\n",
      "Cross_Val_Score =  0.8372132702189046\n",
      "\n",
      "\n",
      "roc_auc_score =  0.830808623055914\n",
      "\n",
      "\n",
      "classification_report\n",
      "               precision    recall  f1-score   support\n",
      "\n",
      "           0       0.82      0.84      0.83     48683\n",
      "           1       0.84      0.82      0.83     48820\n",
      "\n",
      "    accuracy                           0.83     97503\n",
      "   macro avg       0.83      0.83      0.83     97503\n",
      "weighted avg       0.83      0.83      0.83     97503\n",
      "\n",
      "\n",
      "\n",
      "[[40920  7763]\n",
      " [ 8735 40085]]\n",
      "\n",
      "\n",
      "AxesSubplot(0.125,0.808774;0.62x0.0712264)\n",
      "\n",
      "\n",
      "\n",
      "*********************** XGBoostClassifier ***********************\n",
      "\n",
      "\n",
      "XGBClassifier(base_score=0.5, booster='gbtree', colsample_bylevel=1,\n",
      "              colsample_bynode=1, colsample_bytree=1, gamma=0, gpu_id=-1,\n",
      "              importance_type='gain', interaction_constraints='',\n",
      "              learning_rate=0.300000012, max_delta_step=0, max_depth=6,\n",
      "              min_child_weight=1, missing=nan, monotone_constraints='()',\n",
      "              n_estimators=100, n_jobs=0, num_parallel_tree=1, random_state=0,\n",
      "              reg_alpha=0, reg_lambda=1, scale_pos_weight=1, subsample=1,\n",
      "              tree_method='exact', validate_parameters=1, verbosity=None)\n",
      "\n",
      "\n",
      "Accuracy_score =  0.8132160036101453\n",
      "\n",
      "\n",
      "Cross_Val_Score =  0.8156476495634454\n",
      "\n",
      "\n",
      "roc_auc_score =  0.8132121474560027\n",
      "\n",
      "\n",
      "classification_report\n",
      "               precision    recall  f1-score   support\n",
      "\n",
      "           0       0.81      0.81      0.81     48683\n",
      "           1       0.81      0.82      0.81     48820\n",
      "\n",
      "    accuracy                           0.81     97503\n",
      "   macro avg       0.81      0.81      0.81     97503\n",
      "weighted avg       0.81      0.81      0.81     97503\n",
      "\n",
      "\n",
      "\n",
      "[[39456  9227]\n",
      " [ 8985 39835]]\n",
      "\n",
      "\n",
      "AxesSubplot(0.125,0.808774;0.62x0.0712264)\n",
      "\n",
      "\n",
      "\n",
      "*********************** LogisticRegression ***********************\n",
      "\n",
      "\n",
      "LogisticRegression()\n",
      "\n",
      "\n",
      "Accuracy_score =  0.6489749033363076\n",
      "\n",
      "\n",
      "Cross_Val_Score =  0.6538515882824908\n",
      "\n",
      "\n",
      "roc_auc_score =  0.649414832278277\n",
      "\n",
      "\n",
      "classification_report\n",
      "               precision    recall  f1-score   support\n",
      "\n",
      "           0       0.59      0.96      0.73     48683\n",
      "           1       0.90      0.34      0.49     48820\n",
      "\n",
      "    accuracy                           0.65     97503\n",
      "   macro avg       0.75      0.65      0.61     97503\n",
      "weighted avg       0.75      0.65      0.61     97503\n",
      "\n",
      "\n",
      "\n",
      "[[46858  1825]\n",
      " [32401 16419]]\n",
      "\n",
      "\n",
      "AxesSubplot(0.125,0.808774;0.62x0.0712264)\n",
      "\n",
      "\n",
      "\n",
      "*********************** DecisionTreeClassifier ***********************\n",
      "\n",
      "\n",
      "DecisionTreeClassifier()\n",
      "\n",
      "\n",
      "Accuracy_score =  0.8434714829287304\n",
      "\n",
      "\n",
      "Cross_Val_Score =  0.856502021002904\n",
      "\n",
      "\n",
      "roc_auc_score =  0.8435134549313641\n",
      "\n",
      "\n",
      "classification_report\n",
      "               precision    recall  f1-score   support\n",
      "\n",
      "           0       0.82      0.87      0.85     48683\n",
      "           1       0.87      0.81      0.84     48820\n",
      "\n",
      "    accuracy                           0.84     97503\n",
      "   macro avg       0.84      0.84      0.84     97503\n",
      "weighted avg       0.84      0.84      0.84     97503\n",
      "\n",
      "\n",
      "\n",
      "[[42519  6164]\n",
      " [ 9098 39722]]\n",
      "\n",
      "\n",
      "AxesSubplot(0.125,0.808774;0.62x0.0712264)\n",
      "\n",
      "\n",
      "\n",
      "*********************** GaussianNB ***********************\n",
      "\n",
      "\n",
      "GaussianNB()\n",
      "\n",
      "\n",
      "Accuracy_score =  0.6614360583776909\n",
      "\n",
      "\n",
      "Cross_Val_Score =  0.6631836830582729\n",
      "\n",
      "\n",
      "roc_auc_score =  0.6618247530153165\n",
      "\n",
      "\n",
      "classification_report\n",
      "               precision    recall  f1-score   support\n",
      "\n",
      "           0       0.60      0.94      0.73     48683\n",
      "           1       0.86      0.39      0.53     48820\n",
      "\n",
      "    accuracy                           0.66     97503\n",
      "   macro avg       0.73      0.66      0.63     97503\n",
      "weighted avg       0.73      0.66      0.63     97503\n",
      "\n",
      "\n",
      "\n",
      "[[45687  2996]\n",
      " [30015 18805]]\n",
      "\n",
      "\n",
      "AxesSubplot(0.125,0.808774;0.62x0.0712264)\n",
      "\n",
      "\n",
      "\n",
      "*********************** RandomForestClassifier ***********************\n",
      "\n",
      "\n",
      "RandomForestClassifier()\n",
      "\n",
      "\n",
      "Accuracy_score =  0.8254515245684748\n",
      "\n",
      "\n",
      "Cross_Val_Score =  0.833474889340683\n",
      "\n",
      "\n",
      "roc_auc_score =  0.8254810533710284\n",
      "\n",
      "\n",
      "classification_report\n",
      "               precision    recall  f1-score   support\n",
      "\n",
      "           0       0.81      0.85      0.83     48683\n",
      "           1       0.84      0.80      0.82     48820\n",
      "\n",
      "    accuracy                           0.83     97503\n",
      "   macro avg       0.83      0.83      0.83     97503\n",
      "weighted avg       0.83      0.83      0.83     97503\n",
      "\n",
      "\n",
      "\n",
      "[[41210  7473]\n",
      " [ 9546 39274]]\n",
      "\n",
      "\n",
      "AxesSubplot(0.125,0.808774;0.62x0.0712264)\n",
      "\n",
      "\n",
      "\n",
      "*********************** GradientBoostingClassifier ***********************\n",
      "\n",
      "\n",
      "GradientBoostingClassifier()\n",
      "\n",
      "\n",
      "Accuracy_score =  0.785145072459309\n",
      "\n",
      "\n"
     ]
    }
   ],
   "source": [
    "Model = []\n",
    "f1_score = []\n",
    "score = []\n",
    "cvs=[]\n",
    "rocscore=[]\n",
    "for name,model in models:\n",
    "    print('***********************',name,'***********************')\n",
    "    print('\\n')\n",
    "    Model.append(name)\n",
    "    model.fit(x_train,y_train)\n",
    "    print(model)\n",
    "    pre=model.predict(x_test)\n",
    "    print('\\n')\n",
    "    AS=accuracy_score(y_test,pre)\n",
    "    print('Accuracy_score = ',AS)\n",
    "    score.append(AS*100)\n",
    "    print('\\n')\n",
    "    sc = cross_val_score(model, x_res, y_res, cv=10, scoring='accuracy').mean()\n",
    "    print('Cross_Val_Score = ',sc)\n",
    "    cvs.append(sc*100)\n",
    "    print('\\n')\n",
    "    false_positive_rate, true_positive_rate, thresholds = roc_curve(y_test,pre)\n",
    "    roc_auc = auc(false_positive_rate, true_positive_rate)\n",
    "    print ('roc_auc_score = ',roc_auc)\n",
    "    rocscore.append(roc_auc*100)\n",
    "    print('\\n')\n",
    "    print('classification_report\\n',classification_report(y_test,pre))\n",
    "    print('\\n')\n",
    "    cm=confusion_matrix(y_test,pre)\n",
    "    print(cm)\n",
    "    print('\\n')\n",
    "    plt.figure(figsize=(10,40))\n",
    "    plt.subplot(911)\n",
    "    plt.title(name)\n",
    "    print(sns.heatmap(cm,annot=True))\n",
    "    plt.subplot(912)\n",
    "    plt.title(name)\n",
    "    plt.plot(false_positive_rate, true_positive_rate, label='AUC = %0.2f'% roc_auc)\n",
    "    plt.plot([0,1],[0,1],'r--')\n",
    "    plt.legend(loc='lower right')\n",
    "    plt.ylabel('True Positive Rate')\n",
    "    plt.xlabel('False Positive Rate')\n",
    "    print('\\n\\n')"
   ]
  },
  {
   "cell_type": "code",
   "execution_count": null,
   "metadata": {},
   "outputs": [],
   "source": [
    "result = pd.DataFrame({'Model': Model, 'Accuracy_score': score ,'Cross_val_score':cvs,'Roc_auc_curve':rocscore})\n",
    "result"
   ]
  },
  {
   "cell_type": "code",
   "execution_count": null,
   "metadata": {},
   "outputs": [],
   "source": [
    "from sklearn.model_selection import RandomizedSearchCV"
   ]
  },
  {
   "cell_type": "code",
   "execution_count": null,
   "metadata": {},
   "outputs": [],
   "source": [
    "params={\n",
    "    \"learning_rate\"    :[0.05,0.10,0.15,0.20],\n",
    "    \"n_estimators\"     :[30,42,100,150],\n",
    "    \"max_depth\"        :[2,3,4,5],\n",
    "    \"gamma\"            :[0.0,0.1,0.2,0.3]\n",
    "}"
   ]
  },
  {
   "cell_type": "code",
   "execution_count": null,
   "metadata": {},
   "outputs": [],
   "source": [
    "r_search=RandomizedSearchCV(XGBC,param_distributions=params,n_iter=10,scoring='f1_weighted',n_jobs=-1,cv=10,verbose=3)"
   ]
  },
  {
   "cell_type": "code",
   "execution_count": null,
   "metadata": {},
   "outputs": [],
   "source": [
    "r_search.fit(x_train,y_train)"
   ]
  },
  {
   "cell_type": "code",
   "execution_count": null,
   "metadata": {},
   "outputs": [],
   "source": [
    "r_search.best_score_"
   ]
  },
  {
   "cell_type": "code",
   "execution_count": null,
   "metadata": {},
   "outputs": [],
   "source": [
    "r_search.best_params_"
   ]
  },
  {
   "cell_type": "code",
   "execution_count": null,
   "metadata": {},
   "outputs": [],
   "source": [
    "r_search.best_estimator_"
   ]
  },
  {
   "cell_type": "code",
   "execution_count": null,
   "metadata": {},
   "outputs": [],
   "source": [
    "params1={\n",
    "    \"n_estimators\"          :[30,42,100,150,200],\n",
    "    \"max_depth\"             :[2,3,4,5],\n",
    "    \"max_leaf_nodes\"        :[2,4,5],\n",
    "    \"min_impurity_decrease\" :[0.0,0.1,0.2,0.3],\n",
    "}"
   ]
  },
  {
   "cell_type": "code",
   "execution_count": null,
   "metadata": {},
   "outputs": [],
   "source": [
    "r_search1=RandomizedSearchCV(RFC,param_distributions=params1,n_iter=20,scoring='f1_weighted',n_jobs=-1,cv=10,verbose=3)"
   ]
  },
  {
   "cell_type": "code",
   "execution_count": null,
   "metadata": {},
   "outputs": [],
   "source": [
    "r_search1.fit(x_train,y_train)"
   ]
  },
  {
   "cell_type": "code",
   "execution_count": null,
   "metadata": {},
   "outputs": [],
   "source": [
    "r_search.best_score_"
   ]
  },
  {
   "cell_type": "code",
   "execution_count": null,
   "metadata": {},
   "outputs": [],
   "source": [
    "params3= {\n",
    "    \"max_depth\"             :[2,3,4,5],\n",
    "    \"max_leaf_nodes\"        :[2,4,5],\n",
    "    \"min_impurity_decrease\" :[0.0,0.1,0.2,0.3],\n",
    "}"
   ]
  },
  {
   "cell_type": "code",
   "execution_count": null,
   "metadata": {},
   "outputs": [],
   "source": [
    "r_search2=RandomizedSearchCV(DT,param_distributions=params3,n_iter=20,scoring='f1_weighted',n_jobs=-1,cv=10,verbose=3)"
   ]
  },
  {
   "cell_type": "code",
   "execution_count": null,
   "metadata": {},
   "outputs": [],
   "source": [
    "r_search2.fit(x_train,y_train)"
   ]
  },
  {
   "cell_type": "code",
   "execution_count": null,
   "metadata": {},
   "outputs": [],
   "source": [
    "r_search2.best_score_"
   ]
  },
  {
   "cell_type": "code",
   "execution_count": null,
   "metadata": {},
   "outputs": [],
   "source": [
    "r_search2.best_params_"
   ]
  },
  {
   "cell_type": "code",
   "execution_count": null,
   "metadata": {},
   "outputs": [],
   "source": [
    "params4 = {\n",
    "    'n_estimators': range(50,200,25),\n",
    "    'max_features': range(1,13,2),\n",
    "    'min_samples_leaf': range(2,10,1),\n",
    "    'min_samples_split': range(2,10,1),\n",
    "}"
   ]
  },
  {
   "cell_type": "code",
   "execution_count": null,
   "metadata": {},
   "outputs": [],
   "source": [
    "r_search3=RandomizedSearchCV(ETC,param_distributions=params4,n_iter=10,scoring='f1_weighted',n_jobs=-1,cv=10,verbose=3)"
   ]
  },
  {
   "cell_type": "code",
   "execution_count": null,
   "metadata": {},
   "outputs": [],
   "source": [
    "r_search3.fit(x_train,y_train)"
   ]
  },
  {
   "cell_type": "code",
   "execution_count": null,
   "metadata": {},
   "outputs": [],
   "source": [
    "r_search3.best_score_"
   ]
  },
  {
   "cell_type": "markdown",
   "metadata": {},
   "source": [
    "From the above we can see that the even after trying to hypertune the model we are unable to achive good scores in "
   ]
  }
 ],
 "metadata": {
  "kernelspec": {
   "display_name": "Python 3",
   "language": "python",
   "name": "python3"
  },
  "language_info": {
   "codemirror_mode": {
    "name": "ipython",
    "version": 3
   },
   "file_extension": ".py",
   "mimetype": "text/x-python",
   "name": "python",
   "nbconvert_exporter": "python",
   "pygments_lexer": "ipython3",
   "version": "3.7.6"
  }
 },
 "nbformat": 4,
 "nbformat_minor": 4
}
