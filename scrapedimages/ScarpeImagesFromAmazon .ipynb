{
 "cells": [
  {
   "cell_type": "code",
   "execution_count": 2,
   "metadata": {},
   "outputs": [],
   "source": [
    "import requests\n",
    "from bs4 import BeautifulSoup\n",
    "import shutil\n",
    "import re\n",
    "\n",
    "searchs = ['tshirts for men stylish','saree for women latest design 2020','shirts for men stylish']\n",
    "url = 'https://www.amazon.in/s'\n",
    "for search in enumerate(searchs):\n",
    "    payload = {'k': search}\n",
    "    #url = 'https://www.amazon.in/s?k=tshirts+for+men+stylish&crid=282YXW5PJIULI&fbclid=IwAR0t0uMD54-P_PLBkpsTZsVfdAbAKVqfGNtJQSkU-n-dD8bk5W6myZAous8&sprefix=tshirts%2Caps%2C309&ref=nb_sb_ss_i_1_7'\n",
    "    headers = {'user-agent': 'Mozilla/5.0 (Windows NT 10.0; Win64; x64) AppleWebKit/537.36 (KHTML, like Gecko) Chrome/80.0.3987.149 Safari/537.36'}\n",
    "    response = requests.get(url, headers=headers, params=payload)\n",
    "    soup = BeautifulSoup(response.text, 'html.parser')\n",
    "    \n",
    "    count = 0\n",
    "    page = 1\n",
    "    \n",
    "    while count <= 100:\n",
    "        if page != 1:\n",
    "            nextPageUrl = 'https://www.amazon.in' + soup.find(text=re.compile(\"Next\")).parent['href']\n",
    "            response = requests.get(nextPageUrl, headers=headers)\n",
    "            soup = BeautifulSoup(response.text, 'html.parser')\n",
    "            page+=1\n",
    "    \n",
    "        productImgs = soup.find_all('span',{'data-component-type':'s-product-image'})\n",
    "        for each in productImgs:\n",
    "            img_url = each.find('img')['src']\n",
    "        \n",
    "            filename = img_url.split('/')[-1]\n",
    "            response = requests.get(img_url, stream=True)\n",
    "            try:\n",
    "                with open('E:/scrapedimages/' + filename, 'wb') as out_file:\n",
    "                    shutil.copyfileobj(response.raw, out_file)\n",
    "                count+=1\n",
    "            except:\n",
    "                pass\n",
    "        page+=1"
   ]
  },
  {
   "cell_type": "code",
   "execution_count": null,
   "metadata": {},
   "outputs": [],
   "source": []
  }
 ],
 "metadata": {
  "kernelspec": {
   "display_name": "Python 3",
   "language": "python",
   "name": "python3"
  },
  "language_info": {
   "codemirror_mode": {
    "name": "ipython",
    "version": 3
   },
   "file_extension": ".py",
   "mimetype": "text/x-python",
   "name": "python",
   "nbconvert_exporter": "python",
   "pygments_lexer": "ipython3",
   "version": "3.7.6"
  }
 },
 "nbformat": 4,
 "nbformat_minor": 4
}
