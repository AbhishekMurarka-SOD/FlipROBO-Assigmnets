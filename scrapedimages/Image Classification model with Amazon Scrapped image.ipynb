{
 "cells": [
  {
   "cell_type": "code",
   "execution_count": 27,
   "metadata": {},
   "outputs": [],
   "source": [
    "import numpy as np\n",
    "import matplotlib.pyplot as plt\n",
    "import os\n",
    "import cv2\n",
    "import random\n",
    "import pickle\n",
    "\n",
    "DATADIR = \"E:/scrapedimages/train/\"\n",
    "CATEGORIES = [\"saree\",\"Tshirts\",\"shirts\"]\n",
    "\n",
    "IMG_SIZE = 120\n",
    "\n",
    "data=[]\n",
    "\n",
    "for category in CATEGORIES:\n",
    "    path = os.path.join(DATADIR, category)\n",
    "    label = CATEGORIES.index(category)\n",
    "    for img in os.listdir(path):\n",
    "        img_array = cv2.imread(os.path.join(path,img))\n",
    "        img_array = cv2.resize(img_array, (IMG_SIZE, IMG_SIZE))\n",
    "        data.append([img_array, label])"
   ]
  },
  {
   "cell_type": "code",
   "execution_count": 28,
   "metadata": {},
   "outputs": [
    {
     "data": {
      "text/plain": [
       "314"
      ]
     },
     "execution_count": 28,
     "metadata": {},
     "output_type": "execute_result"
    }
   ],
   "source": [
    "len(data)"
   ]
  },
  {
   "cell_type": "code",
   "execution_count": 29,
   "metadata": {},
   "outputs": [],
   "source": [
    "random.shuffle(data)"
   ]
  },
  {
   "cell_type": "code",
   "execution_count": 30,
   "metadata": {},
   "outputs": [
    {
     "data": {
      "text/plain": [
       "(120, 120, 3)"
      ]
     },
     "execution_count": 30,
     "metadata": {},
     "output_type": "execute_result"
    }
   ],
   "source": [
    "img_array.shape"
   ]
  },
  {
   "cell_type": "code",
   "execution_count": 31,
   "metadata": {},
   "outputs": [],
   "source": [
    "x = []\n",
    "y = []\n",
    "for features, labels in data:\n",
    "    x.append(features)\n",
    "    y.append(labels)"
   ]
  },
  {
   "cell_type": "code",
   "execution_count": 32,
   "metadata": {},
   "outputs": [],
   "source": [
    "x=np.array(x)\n",
    "y=np.array(y)"
   ]
  },
  {
   "cell_type": "code",
   "execution_count": 33,
   "metadata": {},
   "outputs": [
    {
     "data": {
      "text/plain": [
       "(314, 120, 120, 3)"
      ]
     },
     "execution_count": 33,
     "metadata": {},
     "output_type": "execute_result"
    }
   ],
   "source": [
    "x.shape"
   ]
  },
  {
   "cell_type": "code",
   "execution_count": 34,
   "metadata": {},
   "outputs": [],
   "source": [
    "x=x/255"
   ]
  },
  {
   "cell_type": "code",
   "execution_count": 35,
   "metadata": {},
   "outputs": [
    {
     "data": {
      "text/plain": [
       "(314, 120, 120, 3)"
      ]
     },
     "execution_count": 35,
     "metadata": {},
     "output_type": "execute_result"
    }
   ],
   "source": [
    "x.shape"
   ]
  },
  {
   "cell_type": "code",
   "execution_count": 36,
   "metadata": {},
   "outputs": [],
   "source": [
    "from keras.models import Sequential\n",
    "from keras.layers import Conv2D, MaxPooling2D, Flatten, Dense"
   ]
  },
  {
   "cell_type": "code",
   "execution_count": 37,
   "metadata": {},
   "outputs": [],
   "source": [
    "model = Sequential()\n",
    "\n",
    "model.add(Conv2D(64, (3,3), activation = 'relu'))\n",
    "model.add(MaxPooling2D((2,2)))\n",
    "\n",
    "model.add(Conv2D(64, (3,3), activation = 'relu'))\n",
    "model.add(MaxPooling2D((2,2)))\n",
    "\n",
    "model.add(Flatten())\n",
    "\n",
    "model.add(Dense(128, input_shape=x.shape[1:], activation='relu'))\n",
    "\n",
    "model.add(Dense(3, activation= 'softmax'))"
   ]
  },
  {
   "cell_type": "code",
   "execution_count": 38,
   "metadata": {},
   "outputs": [],
   "source": [
    "model.compile(optimizer = 'adam', loss='sparse_categorical_crossentropy', metrics=['accuracy'])"
   ]
  },
  {
   "cell_type": "code",
   "execution_count": 39,
   "metadata": {},
   "outputs": [
    {
     "name": "stdout",
     "output_type": "stream",
     "text": [
      "Train on 282 samples, validate on 32 samples\n",
      "Epoch 1/5\n",
      "282/282 [==============================] - 5s 17ms/step - loss: 1.3555 - accuracy: 0.5177 - val_loss: 0.6981 - val_accuracy: 0.7812\n",
      "Epoch 2/5\n",
      "282/282 [==============================] - 5s 17ms/step - loss: 0.5746 - accuracy: 0.7801 - val_loss: 1.1761 - val_accuracy: 0.5312\n",
      "Epoch 3/5\n",
      "282/282 [==============================] - 5s 16ms/step - loss: 0.5187 - accuracy: 0.7730 - val_loss: 0.5242 - val_accuracy: 0.8125\n",
      "Epoch 4/5\n",
      "282/282 [==============================] - 5s 17ms/step - loss: 0.3124 - accuracy: 0.8901 - val_loss: 0.4489 - val_accuracy: 0.8125\n",
      "Epoch 5/5\n",
      "282/282 [==============================] - 5s 17ms/step - loss: 0.2023 - accuracy: 0.9326 - val_loss: 0.5036 - val_accuracy: 0.8438\n"
     ]
    },
    {
     "data": {
      "text/plain": [
       "<keras.callbacks.callbacks.History at 0x138c8636d48>"
      ]
     },
     "execution_count": 39,
     "metadata": {},
     "output_type": "execute_result"
    }
   ],
   "source": [
    "model.fit(x, y, epochs=5, validation_split=0.1)"
   ]
  },
  {
   "cell_type": "code",
   "execution_count": 40,
   "metadata": {},
   "outputs": [],
   "source": [
    "DATADIR = \"E:/scrapedimages/test/\"\n",
    "CATEGORIES = [\"saree\",\"Tshirts\",\"shirts\"]\n",
    "\n",
    "IMG_SIZE = 120\n",
    "\n",
    "data=[]\n",
    "\n",
    "for category in CATEGORIES:\n",
    "    path = os.path.join(DATADIR, category)\n",
    "    label = CATEGORIES.index(category)\n",
    "    for img in os.listdir(path):\n",
    "        img_array = cv2.imread(os.path.join(path,img))\n",
    "        img_array = cv2.resize(img_array, (IMG_SIZE, IMG_SIZE))\n",
    "        data.append([img_array, label])"
   ]
  },
  {
   "cell_type": "code",
   "execution_count": 41,
   "metadata": {},
   "outputs": [],
   "source": [
    "x1 = []\n",
    "y1 = []\n",
    "for features, labels in data:\n",
    "    x1.append(features)\n",
    "    y1.append(labels)\n",
    "x1=np.array(x1)\n",
    "y1=np.array(y1)\n"
   ]
  },
  {
   "cell_type": "code",
   "execution_count": 42,
   "metadata": {},
   "outputs": [],
   "source": [
    "x1=x1/255"
   ]
  },
  {
   "cell_type": "code",
   "execution_count": 43,
   "metadata": {},
   "outputs": [
    {
     "name": "stdout",
     "output_type": "stream",
     "text": [
      "Train on 27 samples, validate on 3 samples\n",
      "Epoch 1/5\n",
      "27/27 [==============================] - 0s 17ms/step - loss: 0.5653 - accuracy: 0.7778 - val_loss: 1.0038 - val_accuracy: 0.6667\n",
      "Epoch 2/5\n",
      "27/27 [==============================] - 0s 17ms/step - loss: 0.3709 - accuracy: 0.8148 - val_loss: 1.1847 - val_accuracy: 0.6667\n",
      "Epoch 3/5\n",
      "27/27 [==============================] - 0s 17ms/step - loss: 0.3554 - accuracy: 0.8148 - val_loss: 1.0694 - val_accuracy: 0.6667\n",
      "Epoch 4/5\n",
      "27/27 [==============================] - 0s 17ms/step - loss: 0.1823 - accuracy: 0.9630 - val_loss: 0.9407 - val_accuracy: 0.6667\n",
      "Epoch 5/5\n",
      "27/27 [==============================] - 0s 17ms/step - loss: 0.0892 - accuracy: 0.9630 - val_loss: 0.8679 - val_accuracy: 0.6667\n"
     ]
    },
    {
     "data": {
      "text/plain": [
       "<keras.callbacks.callbacks.History at 0x138c587f788>"
      ]
     },
     "execution_count": 43,
     "metadata": {},
     "output_type": "execute_result"
    }
   ],
   "source": [
    "model.fit(x1, y1, epochs=5, validation_split=0.1)"
   ]
  },
  {
   "cell_type": "code",
   "execution_count": null,
   "metadata": {},
   "outputs": [],
   "source": []
  }
 ],
 "metadata": {
  "kernelspec": {
   "display_name": "Python 3",
   "language": "python",
   "name": "python3"
  },
  "language_info": {
   "codemirror_mode": {
    "name": "ipython",
    "version": 3
   },
   "file_extension": ".py",
   "mimetype": "text/x-python",
   "name": "python",
   "nbconvert_exporter": "python",
   "pygments_lexer": "ipython3",
   "version": "3.7.6"
  }
 },
 "nbformat": 4,
 "nbformat_minor": 4
}
