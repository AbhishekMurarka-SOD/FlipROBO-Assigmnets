{
 "cells": [
  {
   "cell_type": "code",
   "execution_count": 25,
   "metadata": {},
   "outputs": [],
   "source": [
    "from __future__ import print_function\n",
    "import keras\n",
    "from keras.models import Sequential\n",
    "from keras.layers import Dense, Dropout, Activation, Flatten\n",
    "from keras.layers import Conv2D, MaxPooling2D\n",
    "from keras.preprocessing.image import ImageDataGenerator \n",
    "from keras.utils.vis_utils import plot_model\n",
    "import os"
   ]
  },
  {
   "cell_type": "code",
   "execution_count": 26,
   "metadata": {},
   "outputs": [],
   "source": [
    "num_classes = 3 \n",
    "img_rows, img_cols = 64, 64\n",
    "batch_size=8"
   ]
  },
  {
   "cell_type": "code",
   "execution_count": 27,
   "metadata": {},
   "outputs": [],
   "source": [
    "train=\"E:/Assignment 3/train\"\n",
    "test=\"E:/Assignment 3/test\""
   ]
  },
  {
   "cell_type": "code",
   "execution_count": 28,
   "metadata": {},
   "outputs": [
    {
     "name": "stdout",
     "output_type": "stream",
     "text": [
      "Found 2554 images belonging to 3 classes.\n",
      "Found 30 images belonging to 3 classes.\n"
     ]
    }
   ],
   "source": [
    "train_gen = ImageDataGenerator(rescale=1./255)\n",
    "test_gen = ImageDataGenerator(rescale=1./255)\n",
    "train_generator = train_gen.flow_from_directory(\n",
    "        train,target_size=(img_rows, img_cols),\n",
    "        batch_size=batch_size,\n",
    "        class_mode='categorical',\n",
    "        shuffle=True)\n",
    "test_generator = test_gen.flow_from_directory(\n",
    "        test,target_size=(img_rows, img_cols),\n",
    "        batch_size=batch_size,\n",
    "        class_mode='categorical',\n",
    "        shuffle=True)"
   ]
  },
  {
   "cell_type": "markdown",
   "metadata": {},
   "source": [
    "## Defining the model"
   ]
  },
  {
   "cell_type": "code",
   "execution_count": 29,
   "metadata": {},
   "outputs": [
    {
     "name": "stdout",
     "output_type": "stream",
     "text": [
      "Model: \"sequential_4\"\n",
      "_________________________________________________________________\n",
      "Layer (type)                 Output Shape              Param #   \n",
      "=================================================================\n",
      "conv2d_13 (Conv2D)           (None, 64, 64, 32)        896       \n",
      "_________________________________________________________________\n",
      "activation_19 (Activation)   (None, 64, 64, 32)        0         \n",
      "_________________________________________________________________\n",
      "conv2d_14 (Conv2D)           (None, 62, 62, 32)        9248      \n",
      "_________________________________________________________________\n",
      "activation_20 (Activation)   (None, 62, 62, 32)        0         \n",
      "_________________________________________________________________\n",
      "max_pooling2d_7 (MaxPooling2 (None, 31, 31, 32)        0         \n",
      "_________________________________________________________________\n",
      "dropout_10 (Dropout)         (None, 31, 31, 32)        0         \n",
      "_________________________________________________________________\n",
      "conv2d_15 (Conv2D)           (None, 31, 31, 64)        18496     \n",
      "_________________________________________________________________\n",
      "activation_21 (Activation)   (None, 31, 31, 64)        0         \n",
      "_________________________________________________________________\n",
      "conv2d_16 (Conv2D)           (None, 29, 29, 64)        36928     \n",
      "_________________________________________________________________\n",
      "activation_22 (Activation)   (None, 29, 29, 64)        0         \n",
      "_________________________________________________________________\n",
      "max_pooling2d_8 (MaxPooling2 (None, 14, 14, 64)        0         \n",
      "_________________________________________________________________\n",
      "dropout_11 (Dropout)         (None, 14, 14, 64)        0         \n",
      "_________________________________________________________________\n",
      "flatten_4 (Flatten)          (None, 12544)             0         \n",
      "_________________________________________________________________\n",
      "dense_7 (Dense)              (None, 512)               6423040   \n",
      "_________________________________________________________________\n",
      "activation_23 (Activation)   (None, 512)               0         \n",
      "_________________________________________________________________\n",
      "dropout_12 (Dropout)         (None, 512)               0         \n",
      "_________________________________________________________________\n",
      "dense_8 (Dense)              (None, 3)                 1539      \n",
      "_________________________________________________________________\n",
      "activation_24 (Activation)   (None, 3)                 0         \n",
      "=================================================================\n",
      "Total params: 6,490,147\n",
      "Trainable params: 6,490,147\n",
      "Non-trainable params: 0\n",
      "_________________________________________________________________\n",
      "None\n"
     ]
    }
   ],
   "source": [
    "model = Sequential()\n",
    "model.add(Conv2D(32,(3,3), padding='same',input_shape= (img_rows,img_cols,3)))\n",
    "model.add(Activation('relu'))\n",
    "model.add(Conv2D(32,(3,3)))\n",
    "model.add(Activation('relu'))\n",
    "model.add(MaxPooling2D(pool_size=(2, 2)))\n",
    "model.add(Dropout(0.25))\n",
    "\n",
    "model.add(Conv2D(64, (3,3), padding='same'))\n",
    "model.add(Activation('relu'))\n",
    "model.add(Conv2D(64, (3,3)))\n",
    "model.add(Activation('relu'))\n",
    "model.add(MaxPooling2D(pool_size=(2, 2)))\n",
    "model.add(Dropout(0.25))\n",
    "\n",
    "model.add(Flatten())\n",
    "model.add(Dense(512))\n",
    "model.add(Activation('relu'))\n",
    "model.add(Dropout(0.5))\n",
    "model.add(Dense(num_classes))\n",
    "model.add(Activation('softmax'))\n",
    "\n",
    "print(model.summary())"
   ]
  },
  {
   "cell_type": "code",
   "execution_count": 36,
   "metadata": {},
   "outputs": [
    {
     "name": "stdout",
     "output_type": "stream",
     "text": [
      "Epoch 1/20\n",
      "319/319 [==============================] - 4s 12ms/step - loss: 1.0842 - accuracy: 0.4195 - val_loss: 1.1362 - val_accuracy: 0.2917\n",
      "\n",
      "Epoch 00001: val_loss improved from inf to 1.13624, saving model to E:\\Assignment 3\\IMG_CNN_1.h5\n",
      "Epoch 2/20\n",
      "319/319 [==============================] - 4s 12ms/step - loss: 1.0836 - accuracy: 0.4214 - val_loss: 1.0986 - val_accuracy: 0.4545\n",
      "\n",
      "Epoch 00002: val_loss improved from 1.13624 to 1.09856, saving model to E:\\Assignment 3\\IMG_CNN_1.h5\n",
      "Epoch 3/20\n",
      "319/319 [==============================] - 4s 12ms/step - loss: 1.0844 - accuracy: 0.4179 - val_loss: 1.0672 - val_accuracy: 0.3182\n",
      "\n",
      "Epoch 00003: val_loss improved from 1.09856 to 1.06723, saving model to E:\\Assignment 3\\IMG_CNN_1.h5\n",
      "Epoch 4/20\n",
      "319/319 [==============================] - 4s 12ms/step - loss: 1.0838 - accuracy: 0.4203 - val_loss: 1.1212 - val_accuracy: 0.2727\n",
      "\n",
      "Epoch 00004: val_loss did not improve from 1.06723\n",
      "Epoch 5/20\n",
      "319/319 [==============================] - 4s 12ms/step - loss: 1.0837 - accuracy: 0.4191 - val_loss: 1.0797 - val_accuracy: 0.3750\n",
      "\n",
      "Epoch 00005: val_loss did not improve from 1.06723\n",
      "Epoch 6/20\n",
      "319/319 [==============================] - 4s 12ms/step - loss: 1.0836 - accuracy: 0.4207 - val_loss: 1.0546 - val_accuracy: 0.3636\n",
      "\n",
      "Epoch 00006: val_loss improved from 1.06723 to 1.05458, saving model to E:\\Assignment 3\\IMG_CNN_1.h5\n",
      "Epoch 7/20\n",
      "319/319 [==============================] - 4s 12ms/step - loss: 1.0853 - accuracy: 0.4171 - val_loss: 1.1138 - val_accuracy: 0.2727\n",
      "\n",
      "Epoch 00007: val_loss did not improve from 1.05458\n",
      "Epoch 8/20\n",
      "319/319 [==============================] - 4s 12ms/step - loss: 1.0830 - accuracy: 0.4242 - val_loss: 1.2555 - val_accuracy: 0.3182\n",
      "\n",
      "Epoch 00008: val_loss did not improve from 1.05458\n",
      "Epoch 9/20\n",
      "319/319 [==============================] - 4s 12ms/step - loss: 1.0852 - accuracy: 0.4163 - val_loss: 1.0511 - val_accuracy: 0.3750\n",
      "\n",
      "Epoch 00009: val_loss improved from 1.05458 to 1.05109, saving model to E:\\Assignment 3\\IMG_CNN_1.h5\n",
      "Epoch 10/20\n",
      "319/319 [==============================] - 4s 12ms/step - loss: 1.0834 - accuracy: 0.4195 - val_loss: 1.0940 - val_accuracy: 0.2727\n",
      "\n",
      "Epoch 00010: val_loss did not improve from 1.05109\n",
      "Epoch 11/20\n",
      "319/319 [==============================] - 4s 12ms/step - loss: 1.0834 - accuracy: 0.4218 - val_loss: 1.2073 - val_accuracy: 0.2727\n",
      "\n",
      "Epoch 00011: val_loss did not improve from 1.05109\n",
      "Epoch 12/20\n",
      "319/319 [==============================] - 4s 12ms/step - loss: 1.0841 - accuracy: 0.4195 - val_loss: 1.0417 - val_accuracy: 0.4091\n",
      "\n",
      "Epoch 00012: val_loss improved from 1.05109 to 1.04165, saving model to E:\\Assignment 3\\IMG_CNN_1.h5\n",
      "Epoch 13/20\n",
      "319/319 [==============================] - 4s 12ms/step - loss: 1.0849 - accuracy: 0.4195 - val_loss: 1.1450 - val_accuracy: 0.3750\n",
      "\n",
      "Epoch 00013: val_loss did not improve from 1.04165\n",
      "Epoch 14/20\n",
      "319/319 [==============================] - 4s 12ms/step - loss: 1.0836 - accuracy: 0.4207 - val_loss: 1.1018 - val_accuracy: 0.3182\n",
      "\n",
      "Epoch 00014: val_loss did not improve from 1.04165\n",
      "Epoch 15/20\n",
      "319/319 [==============================] - 4s 12ms/step - loss: 1.0834 - accuracy: 0.4191 - val_loss: 1.0693 - val_accuracy: 0.3636\n",
      "Restoring model weights from the end of the best epoch\n",
      "\n",
      "Epoch 00015: val_loss did not improve from 1.04165\n",
      "\n",
      "Epoch 00015: ReduceLROnPlateau reducing learning rate to 0.0019999999552965165.\n",
      "Epoch 00015: early stopping\n"
     ]
    }
   ],
   "source": [
    "from keras.optimizers import Adam,SGD,RMSprop,Nadam\n",
    "from keras.callbacks import ModelCheckpoint, EarlyStopping, ReduceLROnPlateau\n",
    "\n",
    "checkpoint = ModelCheckpoint(r\"E:\\Assignment 3\\IMG_CNN_1.h5\",\n",
    "                            monitor=\"val_loss\",\n",
    "                            mode=\"min\",\n",
    "                            save_best_only = True,\n",
    "                            verbose=1)\n",
    "\n",
    "earlystop = EarlyStopping(monitor = 'val_loss',\n",
    "                         min_delta = 0,\n",
    "                         patience = 3,\n",
    "                         verbose = 1,\n",
    "                         restore_best_weights = True)\n",
    "\n",
    "reduce_lr = ReduceLROnPlateau(monitor = \"val_loss\",\n",
    "                            factor = 0.2,\n",
    "                            patience = 3,\n",
    "                            verbose = 1,\n",
    "                            min_delta = 0.0001)\n",
    "\n",
    "callbacks = [earlystop, checkpoint, reduce_lr]\n",
    "model.compile(loss = 'categorical_crossentropy',\n",
    "             optimizer=Adam(learning_rate=0.01),\n",
    "             metrics = ['accuracy'])\n",
    "train_samp=2554\n",
    "test_samp=30\n",
    "epochs = 20\n",
    "\n",
    "history = model.fit_generator(\n",
    "    train_generator,\n",
    "    steps_per_epoch = train_samp // batch_size,\n",
    "    epochs= epochs,\n",
    "    callbacks=callbacks,\n",
    "    validation_data = test_generator,\n",
    "    validation_steps = test_samp // batch_size)"
   ]
  },
  {
   "cell_type": "code",
   "execution_count": 43,
   "metadata": {},
   "outputs": [],
   "source": [
    "callbacks = [earlystop, checkpoint, reduce_lr]\n",
    "model.compile(loss = 'categorical_crossentropy',\n",
    "             optimizer=SGD(learning_rate=0.1, momentum=0.9),\n",
    "             metrics = ['accuracy'])"
   ]
  },
  {
   "cell_type": "code",
   "execution_count": 44,
   "metadata": {},
   "outputs": [
    {
     "name": "stdout",
     "output_type": "stream",
     "text": [
      "Epoch 1/20\n",
      "319/319 [==============================] - 3s 11ms/step - loss: 1.1011 - accuracy: 0.4042 - val_loss: 1.1245 - val_accuracy: 0.3750\n",
      "\n",
      "Epoch 00001: val_loss did not improve from 1.04165\n",
      "Epoch 2/20\n",
      "319/319 [==============================] - 3s 10ms/step - loss: 1.1045 - accuracy: 0.3940 - val_loss: 1.1008 - val_accuracy: 0.4091\n",
      "\n",
      "Epoch 00002: val_loss did not improve from 1.04165\n",
      "Epoch 3/20\n",
      "319/319 [==============================] - 3s 10ms/step - loss: 1.0991 - accuracy: 0.3959 - val_loss: 1.1685 - val_accuracy: 0.3636\n",
      "\n",
      "Epoch 00003: val_loss did not improve from 1.04165\n",
      "Epoch 4/20\n",
      "319/319 [==============================] - 3s 10ms/step - loss: 1.1101 - accuracy: 0.3857 - val_loss: 1.0372 - val_accuracy: 0.3636\n",
      "\n",
      "Epoch 00004: val_loss improved from 1.04165 to 1.03722, saving model to E:\\Assignment 3\\IMG_CNN_1.h5\n",
      "Epoch 5/20\n",
      "319/319 [==============================] - 3s 10ms/step - loss: 1.1087 - accuracy: 0.3896 - val_loss: 0.9665 - val_accuracy: 0.4167\n",
      "\n",
      "Epoch 00005: val_loss improved from 1.03722 to 0.96649, saving model to E:\\Assignment 3\\IMG_CNN_1.h5\n",
      "Epoch 6/20\n",
      "319/319 [==============================] - 3s 10ms/step - loss: 1.1032 - accuracy: 0.3798 - val_loss: 1.2638 - val_accuracy: 0.1818\n",
      "\n",
      "Epoch 00006: val_loss did not improve from 0.96649\n",
      "Epoch 7/20\n",
      "319/319 [==============================] - 3s 10ms/step - loss: 1.0971 - accuracy: 0.4026 - val_loss: 1.0945 - val_accuracy: 0.4091\n",
      "\n",
      "Epoch 00007: val_loss did not improve from 0.96649\n",
      "Epoch 8/20\n",
      "319/319 [==============================] - 3s 10ms/step - loss: 1.0985 - accuracy: 0.3971 - val_loss: 1.1242 - val_accuracy: 0.3182\n",
      "Restoring model weights from the end of the best epoch\n",
      "\n",
      "Epoch 00008: val_loss did not improve from 0.96649\n",
      "\n",
      "Epoch 00008: ReduceLROnPlateau reducing learning rate to 0.020000000298023225.\n",
      "Epoch 00008: early stopping\n"
     ]
    }
   ],
   "source": [
    "history = model.fit_generator(\n",
    "    train_generator,\n",
    "    steps_per_epoch = train_samp // batch_size,\n",
    "    epochs= epochs,\n",
    "    callbacks=callbacks,\n",
    "    validation_data = test_generator,\n",
    "    validation_steps = test_samp // batch_size)"
   ]
  },
  {
   "cell_type": "code",
   "execution_count": 45,
   "metadata": {},
   "outputs": [],
   "source": [
    "callbacks = [earlystop, checkpoint, reduce_lr]\n",
    "model.compile(loss = 'categorical_crossentropy',\n",
    "             optimizer=RMSprop(learning_rate=0.1),\n",
    "             metrics = ['accuracy'])"
   ]
  },
  {
   "cell_type": "code",
   "execution_count": 46,
   "metadata": {},
   "outputs": [
    {
     "name": "stdout",
     "output_type": "stream",
     "text": [
      "Epoch 1/20\n",
      "319/319 [==============================] - 4s 12ms/step - loss: 1.0978 - accuracy: 0.4022 - val_loss: 1.0495 - val_accuracy: 0.3333\n",
      "\n",
      "Epoch 00001: val_loss did not improve from 0.96649\n",
      "Epoch 2/20\n",
      "319/319 [==============================] - 3s 10ms/step - loss: 1.0970 - accuracy: 0.4030 - val_loss: 1.1634 - val_accuracy: 0.3182\n",
      "\n",
      "Epoch 00002: val_loss did not improve from 0.96649\n",
      "Epoch 3/20\n",
      "319/319 [==============================] - 3s 10ms/step - loss: 1.0945 - accuracy: 0.4030 - val_loss: 1.1374 - val_accuracy: 0.3182\n",
      "\n",
      "Epoch 00003: val_loss did not improve from 0.96649\n",
      "Epoch 4/20\n",
      "319/319 [==============================] - 3s 10ms/step - loss: 1.0937 - accuracy: 0.3951 - val_loss: 1.1621 - val_accuracy: 0.3636\n",
      "Restoring model weights from the end of the best epoch\n",
      "\n",
      "Epoch 00004: val_loss did not improve from 0.96649\n",
      "\n",
      "Epoch 00004: ReduceLROnPlateau reducing learning rate to 0.020000000298023225.\n",
      "Epoch 00004: early stopping\n"
     ]
    }
   ],
   "source": [
    "history = model.fit_generator(\n",
    "    train_generator,\n",
    "    steps_per_epoch = train_samp // batch_size,\n",
    "    epochs= epochs,\n",
    "    callbacks=callbacks,\n",
    "    validation_data = test_generator,\n",
    "    validation_steps = test_samp // batch_size)"
   ]
  },
  {
   "cell_type": "code",
   "execution_count": 47,
   "metadata": {},
   "outputs": [],
   "source": [
    "callbacks = [earlystop, checkpoint, reduce_lr]\n",
    "model.compile(loss = 'categorical_crossentropy',\n",
    "             optimizer=Nadam(learning_rate=0.001),\n",
    "             metrics = ['accuracy'])"
   ]
  },
  {
   "cell_type": "code",
   "execution_count": 48,
   "metadata": {},
   "outputs": [
    {
     "name": "stdout",
     "output_type": "stream",
     "text": [
      "Epoch 1/20\n",
      "319/319 [==============================] - 5s 15ms/step - loss: 1.0872 - accuracy: 0.4199 - val_loss: 0.9698 - val_accuracy: 0.3750\n",
      "\n",
      "Epoch 00001: val_loss did not improve from 0.96649\n",
      "Epoch 2/20\n",
      "319/319 [==============================] - 4s 14ms/step - loss: 1.0835 - accuracy: 0.4199 - val_loss: 1.1939 - val_accuracy: 0.3182\n",
      "\n",
      "Epoch 00002: val_loss did not improve from 0.96649\n",
      "Epoch 3/20\n",
      "319/319 [==============================] - 4s 13ms/step - loss: 1.0835 - accuracy: 0.4175 - val_loss: 1.2444 - val_accuracy: 0.1818\n",
      "\n",
      "Epoch 00003: val_loss did not improve from 0.96649\n",
      "Epoch 4/20\n",
      "319/319 [==============================] - 4s 13ms/step - loss: 1.0817 - accuracy: 0.4226 - val_loss: 1.1856 - val_accuracy: 0.4545\n",
      "Restoring model weights from the end of the best epoch\n",
      "\n",
      "Epoch 00004: val_loss did not improve from 0.96649\n",
      "\n",
      "Epoch 00004: ReduceLROnPlateau reducing learning rate to 0.00020000000949949026.\n",
      "Epoch 00004: early stopping\n"
     ]
    }
   ],
   "source": [
    "history = model.fit_generator(\n",
    "    train_generator,\n",
    "    steps_per_epoch = train_samp // batch_size,\n",
    "    epochs= epochs,\n",
    "    callbacks=callbacks,\n",
    "    validation_data = test_generator,\n",
    "    validation_steps = test_samp // batch_size)"
   ]
  },
  {
   "cell_type": "code",
   "execution_count": 50,
   "metadata": {},
   "outputs": [],
   "source": [
    "callbacks = [earlystop, checkpoint, reduce_lr]\n",
    "model.compile(loss = 'categorical_crossentropy',\n",
    "             optimizer=SGD(learning_rate=0.1, nesterov=True),\n",
    "             metrics = ['accuracy'])"
   ]
  },
  {
   "cell_type": "code",
   "execution_count": 51,
   "metadata": {},
   "outputs": [
    {
     "name": "stdout",
     "output_type": "stream",
     "text": [
      "Epoch 1/20\n",
      "319/319 [==============================] - 3s 11ms/step - loss: 1.0843 - accuracy: 0.4199 - val_loss: 1.1035 - val_accuracy: 0.2917\n",
      "\n",
      "Epoch 00001: val_loss did not improve from 0.96649\n",
      "Epoch 2/20\n",
      "319/319 [==============================] - 3s 10ms/step - loss: 1.0828 - accuracy: 0.4199 - val_loss: 1.1317 - val_accuracy: 0.3182\n",
      "\n",
      "Epoch 00002: val_loss did not improve from 0.96649\n",
      "Epoch 3/20\n",
      "319/319 [==============================] - 3s 10ms/step - loss: 1.0845 - accuracy: 0.4218 - val_loss: 1.0975 - val_accuracy: 0.4091\n",
      "\n",
      "Epoch 00003: val_loss did not improve from 0.96649\n",
      "Epoch 4/20\n",
      "319/319 [==============================] - 3s 10ms/step - loss: 1.0845 - accuracy: 0.4183 - val_loss: 1.2016 - val_accuracy: 0.3182\n",
      "\n",
      "Epoch 00004: val_loss did not improve from 0.96649\n",
      "Epoch 5/20\n",
      "319/319 [==============================] - 3s 10ms/step - loss: 1.0859 - accuracy: 0.4187 - val_loss: 1.0925 - val_accuracy: 0.3333\n",
      "\n",
      "Epoch 00005: val_loss did not improve from 0.96649\n",
      "Epoch 6/20\n",
      "319/319 [==============================] - 3s 11ms/step - loss: 1.0843 - accuracy: 0.4187 - val_loss: 1.0470 - val_accuracy: 0.4091\n",
      "\n",
      "Epoch 00006: val_loss did not improve from 0.96649\n",
      "Epoch 7/20\n",
      "319/319 [==============================] - 4s 11ms/step - loss: 1.0843 - accuracy: 0.4203 - val_loss: 1.2404 - val_accuracy: 0.1818\n",
      "\n",
      "Epoch 00007: val_loss did not improve from 0.96649\n",
      "Epoch 8/20\n",
      "319/319 [==============================] - 3s 10ms/step - loss: 1.0839 - accuracy: 0.4199 - val_loss: 1.0432 - val_accuracy: 0.4091\n",
      "\n",
      "Epoch 00008: val_loss did not improve from 0.96649\n",
      "Epoch 9/20\n",
      "319/319 [==============================] - 3s 10ms/step - loss: 1.0848 - accuracy: 0.4171 - val_loss: 1.0434 - val_accuracy: 0.3333\n",
      "\n",
      "Epoch 00009: val_loss did not improve from 0.96649\n",
      "Epoch 10/20\n",
      "319/319 [==============================] - 4s 11ms/step - loss: 1.0834 - accuracy: 0.4242 - val_loss: 1.1021 - val_accuracy: 0.2727\n",
      "\n",
      "Epoch 00010: val_loss did not improve from 0.96649\n",
      "Epoch 11/20\n",
      "319/319 [==============================] - 3s 10ms/step - loss: 1.0848 - accuracy: 0.4128 - val_loss: 1.1985 - val_accuracy: 0.3636\n",
      "Restoring model weights from the end of the best epoch\n",
      "\n",
      "Epoch 00011: val_loss did not improve from 0.96649\n",
      "\n",
      "Epoch 00011: ReduceLROnPlateau reducing learning rate to 0.020000000298023225.\n",
      "Epoch 00011: early stopping\n"
     ]
    }
   ],
   "source": [
    "history = model.fit_generator(\n",
    "    train_generator,\n",
    "    steps_per_epoch = train_samp // batch_size,\n",
    "    epochs= epochs,\n",
    "    callbacks=callbacks,\n",
    "    validation_data = test_generator,\n",
    "    validation_steps = test_samp // batch_size)"
   ]
  },
  {
   "cell_type": "code",
   "execution_count": null,
   "metadata": {},
   "outputs": [],
   "source": []
  }
 ],
 "metadata": {
  "kernelspec": {
   "display_name": "Python 3",
   "language": "python",
   "name": "python3"
  },
  "language_info": {
   "codemirror_mode": {
    "name": "ipython",
    "version": 3
   },
   "file_extension": ".py",
   "mimetype": "text/x-python",
   "name": "python",
   "nbconvert_exporter": "python",
   "pygments_lexer": "ipython3",
   "version": "3.7.6"
  }
 },
 "nbformat": 4,
 "nbformat_minor": 4
}
