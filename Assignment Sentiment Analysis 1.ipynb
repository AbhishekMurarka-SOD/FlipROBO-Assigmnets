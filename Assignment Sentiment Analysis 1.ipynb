{
 "cells": [
  {
   "cell_type": "code",
   "execution_count": 1,
   "metadata": {},
   "outputs": [],
   "source": [
    "import string\n",
    "import GetOldTweets3 as got\n",
    "from collections import Counter"
   ]
  },
  {
   "cell_type": "code",
   "execution_count": 2,
   "metadata": {},
   "outputs": [],
   "source": [
    "def get_tweets():\n",
    "    tweetCriteria = got.manager.TweetCriteria().setQuerySearch('coronavirus')\\\n",
    "                                           .setSince(\"2020-01-01\")\\\n",
    "                                           .setUntil(\"2020-04-30\")\\\n",
    "                                           .setNear(\"India\")\\\n",
    "                                           .setMaxTweets(100)\n",
    "    tweets = got.manager.TweetManager.getTweets(tweetCriteria)\n",
    "    text_tweets = [[tweet.text] for tweet in tweets]\n",
    "    return text_tweets"
   ]
  },
  {
   "cell_type": "code",
   "execution_count": 3,
   "metadata": {},
   "outputs": [],
   "source": [
    "text=\"\"\n",
    "text_tweets = get_tweets()\n",
    "length=len(text_tweets)\n",
    "\n",
    "for i in range(0, length):\n",
    "    text=text_tweets[i][0]+\" \"+text\n",
    "\n",
    "lower_case=text.lower()\n",
    "cleaned_text = lower_case.translate(str.maketrans('','', string.punctuation))\n",
    "tokenized_words = cleaned_text.split()"
   ]
  },
  {
   "cell_type": "code",
   "execution_count": 4,
   "metadata": {},
   "outputs": [
    {
     "data": {
      "text/plain": [
       "[['मायक्रोसॉफ्टचे संस्थापक बिल गेट्स यांनी पंतप्रधान नरेंद्र मोदी याचं कौतुक केलं असून त्यांनी मोदी यांना पत्र लिहिलं आहे. याच पत्रातून त्यांनी आपल्या भावना व्यक्त केल्या आहेत. #Billgates #PMModi #NarendraModi #coronavirus #CoronaVirusUpdate'],\n",
       " ['@buldhanapolice1 To get the treaty of service. @narendramodi @PMOIndia @OfficeofUT @CMOMaharashtra @DGPMaharashtra @oiseaulibre3 @aajtak @MoHFW_INDIA @ZeeNews @anjanaomkashyap @AmChatCNEC @sudhirchaudhary #coronavirus #CoronaInMaharashtra #CoronaFighters #Vishwas'],\n",
       " ['@buldhanapolice1 SP sir Due to the Corona virus, our police have been doing day and night duty for the past one month. To help all these police brothers we want some young friends to take care of our Mehkar town for 1 or 2 days.We request you to give us chance to serve. Jai Hind'],\n",
       " [\"Corona fighters are those warriors who don't bother for their lives and continuously serving public affected by Corona Virus. Their services are really appreciable. We pray for their lives. Live long! #LetUsPrayForCoronaFighters\"],\n",
       " ['भारत से लौट कर जाएगा #coronavirus , लेकिन सबको लड़ना होगा..! #londonlockdown'],\n",
       " ['इस #koronavirus की वजह से देश में जिनको अपने पहचान पत्र नहीं मिल रहे थे., लगता हैं रेtion की लाइन में खड़ा कर दिया हैं..!'],\n",
       " ['Amid Nationwide lockdown in the wake of corona virus outbreak, Yog Vedant Seva Samiti,Jamshedpur inspired by #Bapuji distributed Food kits to the poor and Migrant Labourers who are struggling to earn a single meal a day. #AsharamjiAshrams_ServingHumanity'],\n",
       " ['During Corona Virus, Ghaziabad Ashram of Sant Shri Asharamji Bapu arranged Bhandara for those who are starved due to Lockdown. #AsharamjiAshrams_ServingHumanity'],\n",
       " ['During Corona Virus, Ghaziabad Ashram of Sant Shri Asharamji Bapu arranged Bhandara for those who are starved due to Lockdown. #AsharamjiAshrams_ServingHumanity'],\n",
       " ['Sant Shri Asharamji Bapu disciples are nowadays engaged in delivering the necessities of life to needy public on all over India basis due to Corona Virus spread. #AsharamjiAshrams_ServingHumanity https://m.facebook.com/story.php?story_fbid=2943617595731843&amp;id=549772338449726'],\n",
       " [\"Hello friends Be happy enjoy every moment of your life is too short I feel, but today very danger situation& Are facing! In a my country all people face on the covid-19 coronavirus but Don't worry we will surely… https://www.instagram.com/p/B-m9CFSnFnC/?igshid=1lu651ywkh2q5\"],\n",
       " [\"Hello friends Be happy enjoy every moment of your life is too short I feel, but today very danger situation& Are facing In a my country all people face on the covid-19 coronavirus but Don't worry we will surely… https://www.instagram.com/p/B-mqv_0Hggr/?igshid=aid6p1ourgnu\"],\n",
       " ['AAJ raat #9baje9minute #coronavirus #lockdown'],\n",
       " ['निजामुद्दीन में 1400 लोगों के #coronavirus टेस्ट पर खर्च होने वाले 63 लाख रुपए प्रोग्राम के आयोजकों से वसूला जाए, प्रधान-मंत्री कोष में दान दिया पैसा गरीबो के लिए हैं..! #राहत_कोष #PMCaresFund @PMOIndia @ArvindKejriwal @HMOIndia @WHO'],\n",
       " ['#Coronavirus: #टाटा ट्रस्टकडून सर्वात मोठी मदत; करोनाशी लढण्यासाठी दिले ५०० कोटी . खरचं #देव नाही पाहिला पंरतु #मानसातला देव #मानुस पाहिला #रतन टाटा. त्रिवार सलाम सर!!@RNTata2000 @tatatrusts @TataCompanies'],\n",
       " ['जो लोग सड़कों पर मिले उनको मारे नही.., उनको #coronavirus से पीड़ित मरीजों की देखभाल में लगा दें। क्योंकि ये हि हमारे देश के बहादुर शेर हैं, इनका मानना है कि इन्हे कुछ नहीं होगा। जनहित में जारी '],\n",
       " ['#CoronavirusLockdown When complete family sits together to listen and follow guidelines of our beloved PM @narendramodi ji Thank you @narendramodi Ji for guiding us and sharing positive thoughts to fight with corona virus. @PMOIndia @BJP4India @republic @JPNadda @Dev_Fadnavis'],\n",
       " ['Gharme Rahe !! Gharme Rahe !!Gharme Rahe !! #StayAtHomeSaveLives #coronavirus'],\n",
       " ['आज #coronavirus से लड़ रहे देश की तीनो सेना को हमारा सैलूट @CMOMaharashtra @MoHFW_INDIA @WHO @PMOIndia #LockdownNow #lockdownindia #COVIDー19 #Coronafighters'],\n",
       " ['Your zombie Game is going to get real #COVIDー19 #coronavirus'],\n",
       " ['Stay HOME ! Stay SAFE #StayHomeSaveLives #StayHomeIndia #coronavirus @narendramodi ji @CMOMaharashtra @InfoWashim @spwashim – at Washim'],\n",
       " ['Its time to act seriously against corona virus. Most worthy and informative video about spread of virus and actions tobe taken. We must take our own responsibility. @CMOMaharashtra @rajeshtope11 Its time to act'],\n",
       " ['Janta curfew on March 22 Sunday , no hoarding applaud those fighting coronavirus outbreak :pm modi tells India Timing 7am to 9pm Sunday....be carefully its all about our safety #COVID2019 #Covid19India #jantacurfew #coronaviruspadimic #Coronaindia #sunday22march #India'],\n",
       " [' simple steps to protect yourself from the ongoing Novel Coronavirus Stay healthy. Stay safe #OneFamily #covid_19 @Rajampet (Cuddapah Dist.), India https://www.instagram.com/p/B96BtjgnCyy/?igshid=178us0nib7zfv'],\n",
       " ['Do Namaste!! Avoid handshake & hugs Keep safe Distance from Corona Virus. Stay alert from Corona, do not panic. spread awareness about corona. #coronavirus #coronaoutbreak #india']]"
      ]
     },
     "execution_count": 4,
     "metadata": {},
     "output_type": "execute_result"
    }
   ],
   "source": [
    "text_tweets"
   ]
  },
  {
   "cell_type": "code",
   "execution_count": 5,
   "metadata": {},
   "outputs": [],
   "source": [
    "from nltk.corpus import stopwords"
   ]
  },
  {
   "cell_type": "code",
   "execution_count": 6,
   "metadata": {},
   "outputs": [],
   "source": [
    "stop_words = stopwords.words('english')"
   ]
  },
  {
   "cell_type": "code",
   "execution_count": 7,
   "metadata": {},
   "outputs": [],
   "source": [
    "final_words= [word for word in tokenized_words if word not in stop_words]"
   ]
  },
  {
   "cell_type": "code",
   "execution_count": 8,
   "metadata": {},
   "outputs": [
    {
     "name": "stdout",
     "output_type": "stream",
     "text": [
      "Counter({' happy': 2, ' attracted': 1, ' codependent': 1})\n"
     ]
    }
   ],
   "source": [
    "emotion_list = []\n",
    "with open('emotions.txt', 'r') as file:\n",
    "    for line in file:\n",
    "        clear_line = line.replace('\\n','').replace(',','').replace(\"'\", '').strip()\n",
    "        word, emotion = clear_line.split(':')\n",
    "        if word in final_words:\n",
    "            emotion_list.append(emotion)\n",
    "\n",
    "w=Counter(emotion_list)\n",
    "print(w)"
   ]
  },
  {
   "cell_type": "code",
   "execution_count": 9,
   "metadata": {},
   "outputs": [],
   "source": [
    "def get_tweets():\n",
    "    tweetCriteria = got.manager.TweetCriteria().setQuerySearch('coronavirus')\\\n",
    "                                           .setSince(\"2020-04-01\")\\\n",
    "                                           .setUntil(\"2020-07-30\")\\\n",
    "                                           .setNear(\"India\")\\\n",
    "                                           .setMaxTweets(100)\n",
    "    tweets = got.manager.TweetManager.getTweets(tweetCriteria)\n",
    "    text_tweets = [[tweet.text] for tweet in tweets]\n",
    "    return text_tweets"
   ]
  },
  {
   "cell_type": "code",
   "execution_count": 10,
   "metadata": {},
   "outputs": [],
   "source": [
    "text=\"\"\n",
    "text_tweets = get_tweets()\n",
    "length=len(text_tweets)\n",
    "\n",
    "for i in range(0, length):\n",
    "    text=text_tweets[i][0]+\" \"+text\n",
    "\n",
    "lower_case=text.lower()\n",
    "cleaned_text = lower_case.translate(str.maketrans('','', string.punctuation))\n",
    "tokenized_words = cleaned_text.split()"
   ]
  },
  {
   "cell_type": "code",
   "execution_count": 11,
   "metadata": {},
   "outputs": [
    {
     "data": {
      "text/plain": [
       "[['BJP should fight Coronavirus with the same commitment they show in toppling elected governments. #SpeakUpForDemocracy'],\n",
       " [\"Thanks to those Special Operations people and Special one's for making India reach #10lakh cases. India will never forget their hard efforts in crossing #10lakh mark. #COVID19 #coronavirus\"],\n",
       " [\"Thanks to those Special Operations people and Special one's for making India reach #10lakh cases. India will never forget their hard efforts in crossing #10lakh mark. #COVID19 #coronavirus\"],\n",
       " [\"Thanks to those special one's for crossing 10Lakh mark in India. Due to hard efforts of those special one's we are able to reach here. #10lakhpar #coronavirus @CAPratikKarpe @Avadhutwaghbjp @thakkar_sameet @ShefVaidya @Lala_The_Don\"],\n",
       " [\"Thanks to those special one's for crossing 10Lakh mark in India (corona cases). Due to hard efforts of those special one's we are able to reach here. #10lakhmark #coronavirus\"],\n",
       " [\"Thanks to those special one's for crossing 10Lakh mark. Due to hard efforts of those special one's we are able to reach here. #10lakhmark #coronavirus\"],\n",
       " [\"असं चीढायचं नाही भाऊ .. what's wrong in #BabyPenguin this @AUThackeray ? Why FIR for every small things.. Why misuse of Dad's power ? Why u r getting offended by such a cute name ? #maharashtrapolitics #coronavirus #MahaCMCBIForSSR\"],\n",
       " [\"असं चीढायचं नाही भाऊ .. what's wrong in ( #BabyPenguin ) this @AUThackeray ? Why FIR for every small things.. Why misuse of Dad's power ? Why u r getting offended by such a cute name ? #maharashtrapolitics #coronavirus #MahaCMCBIForSSR\"],\n",
       " [\"असं चीढायचं नाही भाऊ .. what's wrong in ( #BabyPenguin ) this @AUThackeray ? Why FIR for every small things.. Why misuse of Dad's power ? Why u r getting offended by such a cute name ? #maharashtrapolitics #coronavirus #MahaCMCBIForSSR\"],\n",
       " [\"असं चीढायचं नाही भाऊ .. what's wrong in ( #BabyPenguin ) this @AUThackeray ? Why FIR for every small things.. Why misuse of Dad's power ? Why u r getting offended by such a cute name ? #maharashtrapolitics #coronavirus #MahaCMCBIForSSR\"],\n",
       " [\"असं चीढायचं नाही भाऊ .. what's wrong in ( #BabyPenguin ) this @AUThackeray ? Why FIR for every small things.. Why misuse of Dad's power ? Why u r getting offended by such a cute name ? #maharashtrapolitics #coronavirus #MahaCMCBIForSSR\"],\n",
       " [\"असं चीढायचं नाही भाऊ .. what's wrong in ( #BabyPenguin ) this @AUThackeray ? Why FIR for every small things.. Why misuse of Dad's power ? Why u r getting offended by such a cute name ? #maharashtrapolitics #coronavirus #MahaCMCBIForSSR\"],\n",
       " [\"असं चीढायचं नाही भाऊ .. what's wrong in ( #BabyPenguin ) this @AUThackeray ? Why FIR for every small things.. Why misuse of Dad's power ? Why u r getting offended by such a cute name ? #maharashtrapolitics #coronavirus #MahaCMCBIForSSR\"],\n",
       " [\"असं चीढायचं नाही भाऊ .. what's wrong in ( #BabyPenguin ) this @AUThackeray ? Why FIR for every small things.. Why misuse of Dad's power ? Why u r getting offended by such a cute name ? #maharashtrapolitics #coronavirus #MahaCMCBIForSSR\"],\n",
       " [\"असं चीढायचं नाही भाऊ .. what's wrong in ( #BabyPenguin ) this @AUThackeray ? Why FIR for every small things.. Why misuse of Dad's power ? Why u r getting offended by such a cute name ? #maharashtrapolitics #coronavirus #MahaCMCBIForSSR\"],\n",
       " [\"असं चीढायचं नाही भाऊ .. what's wrong in ( #BabyPenguin ) this @AUThackeray ? Why FIR for every small things.. Why misuse of Dad's power ? Why u r getting offended by such a cute name ? #maharashtrapolitics #coronavirus #MahaCMCBIForSSR\"],\n",
       " [\"@OfficeofUT is busy with Transfers of officer's, having deals with @PawarSpeaks &amp; managing his Nagarsevak's ! Anyways nice to see @AjitPawarSpeaks more active onground for Pune. Need more leaders like you @SidShirole bhau ! #Punelockdown #Maharashtra #lockdown #coronavirus \"],\n",
       " ['ये वक़्त भी गुज़र जाएगा, सुनहरा कल फिर से आएगा, खुशियां देगी फिर से दस्तक... #modi2 #coronavirus #Trump #1YearofModi2 #Modi1Year #SaturdayThoughts #COVID #COVID2019 #StayHomeSaveLives'],\n",
       " ['Due to improper ventilation and poor hygiene incarcerated person can easily become ill as spread of Corona virus increases. #CoronaRiskInJail'],\n",
       " ['The rate of coronavirus spread is very high in jails. Hundreds of inmates have already come in the clutches of this deadly virus. #CoronaRiskInJail'],\n",
       " [\"Jails are like 'Petri Dishes' for Coronavirus. #CoronaRiskInJail\"],\n",
       " ['Keeping prisoners locked up in jails is like a time bomb... waiting to explode ! Once coronavirus enters the prison, there is no stopping. Keeping the high #CoronaRiskInJail in view, Govt. must release prisoners on parole.'],\n",
       " [\"#महामारियों_से_कैसे_हो_सुरक्षा ? Do read about ways of defense from Coronavirus &amp; social welfare principles of Indian culture in this month's Lok Kalyan Setu. This month's edition (E-magzine) is available free. Click on d link https://rishiprasad.org/lokkalyansetu/lks/\"],\n",
       " [\"Tell me why #ZeeNews shouldn't be shutdown or sealdown? 28 corona virus cases are from 'single source!' I hope authorities completely seal #ZeeNews building, put entire staff along with #SudhirChaudhary under quarantine. Rule same... #ZeeNewsSealKaro @aslam_bagban @bagwan_syed\"],\n",
       " ['Sant Shri Asharamji Bapu ने सदैव स्वदेशी अपनाने पर जोर दिए हैं। स्वदेशी उत्पादों पर आधारित Corona virus से बचाव के लिए बचाव सामग्रियाँ आश्रम के e-Store पर उपलब्ध हैं। #50PlusYearsOfSwadeshiAwareness https://www.ashramestore.com'],\n",
       " ['तु तो यह भी बोल सकता है की corona virus India मे तुने ही बनाया है'],\n",
       " [\"There are no safety measures in overcrowded jails and prisons. protocols to prevent spread of Corona virus can't be taken due to lack of facilities. So elder prisoners who are more prone to infection must get parole m. #GrantParoleToSecurePrisoners\"],\n",
       " ['भारत में Corona virus बहुत ही तेज़ी से फैल रहा है,रोज सैकड़ों केस आ रहे हैं, भारत के कैदी अपनी जान कैसे बचाएंगे सरकर की जरूर ध्यान देना चाहिए.. #GrantParoleToSecurePrisoners'],\n",
       " [\"There are no safety measures in overcrowded jails and prisons. protocols to prevent spread of Corona virus can't be taken due to lack of facilities. So elder prisoners who are more prone to infection must get parole . #GrantParoleToSecurePrisoners\"],\n",
       " ['WHO says that those persons above the age of 60 years are exposed to Corona Virus. Sant Shri Asharamji Bapu Ji more than 80 years of age. It is proposed to release him on parole urgently. #GrantParoleToSecurePrisoners'],\n",
       " ['एक सकारात्मक बातमी, बुलढाणा जिल्ह्यातील सर्व कोरोना रुग्णांना डिस्चार्ज देण्यात आले आहे, एकूण २४ पैकी २३ रुग्ण बरे झाले असून एका रुग्णाचा दुर्दैवी मृत्यू झाला होता. त्यामुळे बुलढाणा जिल्हा कोरोना मुक्त झाला आहे. तरी सर्व नागरिकांना विनंती की काळजी घ्या, सूचना पाळा #coronavirus '],\n",
       " ['मायक्रोसॉफ्टचे संस्थापक बिल गेट्स यांनी पंतप्रधान नरेंद्र मोदी याचं कौतुक केलं असून त्यांनी मोदी यांना पत्र लिहिलं आहे. याच पत्रातून त्यांनी आपल्या भावना व्यक्त केल्या आहेत. #Billgates #PMModi #NarendraModi #coronavirus #CoronaVirusUpdate'],\n",
       " ['@buldhanapolice1 To get the treaty of service. @narendramodi @PMOIndia @OfficeofUT @CMOMaharashtra @DGPMaharashtra @oiseaulibre3 @aajtak @MoHFW_INDIA @ZeeNews @anjanaomkashyap @AmChatCNEC @sudhirchaudhary #coronavirus #CoronaInMaharashtra #CoronaFighters #Vishwas'],\n",
       " ['@buldhanapolice1 SP sir Due to the Corona virus, our police have been doing day and night duty for the past one month. To help all these police brothers we want some young friends to take care of our Mehkar town for 1 or 2 days.We request you to give us chance to serve. Jai Hind'],\n",
       " [\"Corona fighters are those warriors who don't bother for their lives and continuously serving public affected by Corona Virus. Their services are really appreciable. We pray for their lives. Live long! #LetUsPrayForCoronaFighters\"],\n",
       " ['भारत से लौट कर जाएगा #coronavirus , लेकिन सबको लड़ना होगा..! #londonlockdown'],\n",
       " ['इस #koronavirus की वजह से देश में जिनको अपने पहचान पत्र नहीं मिल रहे थे., लगता हैं रेtion की लाइन में खड़ा कर दिया हैं..!'],\n",
       " ['Amid Nationwide lockdown in the wake of corona virus outbreak, Yog Vedant Seva Samiti,Jamshedpur inspired by #Bapuji distributed Food kits to the poor and Migrant Labourers who are struggling to earn a single meal a day. #AsharamjiAshrams_ServingHumanity'],\n",
       " ['During Corona Virus, Ghaziabad Ashram of Sant Shri Asharamji Bapu arranged Bhandara for those who are starved due to Lockdown. #AsharamjiAshrams_ServingHumanity'],\n",
       " ['During Corona Virus, Ghaziabad Ashram of Sant Shri Asharamji Bapu arranged Bhandara for those who are starved due to Lockdown. #AsharamjiAshrams_ServingHumanity'],\n",
       " ['Sant Shri Asharamji Bapu disciples are nowadays engaged in delivering the necessities of life to needy public on all over India basis due to Corona Virus spread. #AsharamjiAshrams_ServingHumanity https://m.facebook.com/story.php?story_fbid=2943617595731843&amp;id=549772338449726'],\n",
       " [\"Hello friends Be happy enjoy every moment of your life is too short I feel, but today very danger situation& Are facing! In a my country all people face on the covid-19 coronavirus but Don't worry we will surely… https://www.instagram.com/p/B-m9CFSnFnC/?igshid=1lu651ywkh2q5\"],\n",
       " [\"Hello friends Be happy enjoy every moment of your life is too short I feel, but today very danger situation& Are facing In a my country all people face on the covid-19 coronavirus but Don't worry we will surely… https://www.instagram.com/p/B-mqv_0Hggr/?igshid=aid6p1ourgnu\"],\n",
       " ['AAJ raat #9baje9minute #coronavirus #lockdown']]"
      ]
     },
     "execution_count": 11,
     "metadata": {},
     "output_type": "execute_result"
    }
   ],
   "source": [
    "text_tweets"
   ]
  },
  {
   "cell_type": "code",
   "execution_count": 12,
   "metadata": {},
   "outputs": [
    {
     "name": "stdout",
     "output_type": "stream",
     "text": [
      "Counter({' happy': 2, ' attracted': 1, ' fearful': 1, ' free': 1, ' codependent': 1, ' angry': 1})\n"
     ]
    }
   ],
   "source": [
    "stop_words = stopwords.words('english')\n",
    "final_words1= [word for word in tokenized_words if word not in stop_words]\n",
    "emotion_list = []\n",
    "with open('emotions.txt', 'r') as file:\n",
    "    for line in file:\n",
    "        clear_line = line.replace('\\n','').replace(',','').replace(\"'\", '').strip()\n",
    "        word, emotion = clear_line.split(':')\n",
    "        if word in final_words1:\n",
    "            emotion_list.append(emotion)\n",
    "\n",
    "w=Counter(emotion_list)\n",
    "print(w)"
   ]
  },
  {
   "cell_type": "code",
   "execution_count": 24,
   "metadata": {},
   "outputs": [],
   "source": [
    "from sklearn.feature_extraction.text import CountVectorizer\n",
    "cv=CountVectorizer()\n",
    "x = cv.fit(final_words)\n",
    "y = x.transform(final_words1)"
   ]
  },
  {
   "cell_type": "code",
   "execution_count": 25,
   "metadata": {},
   "outputs": [
    {
     "name": "stdout",
     "output_type": "stream",
     "text": [
      "Common Text in BOW [[0 0 0 ... 0 0 0]\n",
      " [0 0 0 ... 0 0 0]\n",
      " [0 0 0 ... 0 0 0]\n",
      " ...\n",
      " [0 0 0 ... 0 0 0]\n",
      " [0 0 0 ... 0 0 0]\n",
      " [0 0 0 ... 0 0 0]]\n"
     ]
    }
   ],
   "source": [
    "print(\"Common Text in BOW\",y.toarray())"
   ]
  },
  {
   "cell_type": "code",
   "execution_count": 31,
   "metadata": {},
   "outputs": [
    {
     "name": "stdout",
     "output_type": "stream",
     "text": [
      "['1400', '22', '63', '7am', '9baje9minute', '9pm', 'aaj', 'aajtak', 'act', 'actions', 'affected', 'alert', 'amchatcnec', 'amid', 'anjanaomkashyap', 'applaud', 'appreciable', 'arranged', 'arvindkejriwal', 'asharamji', 'asharamjiashramsservinghumanity', 'ashram', 'avoid', 'awareness', 'bapu', 'bapuji', 'basis', 'beloved', 'bhandara', 'billgates', 'bjp4india', 'bother', 'brothers', 'buldhanapolice1', 'care', 'carefully', 'chance', 'cmomaharashtra', 'complete', 'continuously', 'corona', 'coronafighters', 'coronaindia', 'coronainmaharashtra', 'coronaoutbreak', 'coronavirus', 'coronaviruslockdown', 'coronaviruspadimic', 'coronavirusupdate', 'country', 'covid19', 'covid19india', 'covid2019', 'covidー19', 'cuddapah', 'curfew', 'danger', 'day', 'dayswe', 'delivering', 'devfadnavis', 'dgpmaharashtra', 'disciples', 'dist', 'distance', 'distributed', 'dont', 'due', 'duty', 'earn', 'engaged', 'enjoy', 'every', 'face', 'facing', 'family', 'feel', 'fight', 'fighters', 'fighting', 'follow', 'food', 'friends', 'game', 'get', 'gharme', 'ghaziabad', 'give', 'going', 'guidelines', 'guiding', 'handshake', 'happy', 'healthy', 'hello', 'help', 'hind', 'hmoindia', 'hoarding', 'home', 'httpsmfacebookcomstoryphpstoryfbid2943617595731843ampid549772338449726', 'httpswwwinstagramcompb96btjgncyyigshid178us0nib7zfv', 'httpswwwinstagramcompbm9cfsnfncigshid1lu651ywkh2q5', 'httpswwwinstagramcompbmqv0hggrigshidaid6p1ourgnu', 'hugs', 'india', 'informative', 'infowashim', 'inspired', 'jai', 'janta', 'jantacurfew', 'ji', 'jpnadda', 'keep', 'kits', 'koronavirus', 'labourers', 'letusprayforcoronafighters', 'life', 'listen', 'live', 'lives', 'lockdown', 'lockdownindia', 'lockdownnow', 'londonlockdown', 'long', 'march', 'meal', 'mehkar', 'migrant', 'modi', 'mohfwindia', 'moment', 'month', 'must', 'namaste', 'narendramodi', 'nationwide', 'necessities', 'needy', 'night', 'novel', 'nowadays', 'officeofut', 'oiseaulibre3', 'one', 'onefamily', 'ongoing', 'outbreak', 'panic', 'past', 'people', 'pm', 'pmcaresfund', 'pmmodi', 'pmoindia', 'police', 'poor', 'positive', 'pray', 'protect', 'public', 'raat', 'rahe', 'rajampet', 'rajeshtope11', 'real', 'really', 'republic', 'request', 'responsibility', 'safe', 'safety', 'samitijamshedpur', 'sant', 'seriously', 'serve', 'service', 'services', 'serving', 'seva', 'sharing', 'short', 'shri', 'simple', 'single', 'sir', 'sits', 'situation', 'sp', 'spread', 'spwashim', 'starved', 'stay', 'stayathomesavelives', 'stayhomeindia', 'stayhomesavelives', 'steps', 'struggling', 'sudhirchaudhary', 'sunday', 'sunday22march', 'sundaybe', 'surely', 'take', 'taken', 'tatacompanies', 'tatatrusts', 'tells', 'thank', 'thoughts', 'time', 'timing', 'tion', 'tobe', 'today', 'together', 'town', 'treaty', 'us', 'vedant', 'video', 'virus', 'vishwas', 'wake', 'want', 'warriors', 'washim', 'worry', 'worthy', 'yog', 'young', 'zeenews', 'zombie', 'अपन', 'अस', 'आज', 'आपल', 'आय', 'आह', 'इन', 'इनक', 'इस', 'उनक', 'एग', 'कर', 'खड', 'खभ', 'खर', 'खरच', 'गर', 'जक', 'जनह', 'टकड', 'टच', 'तप', 'तल', 'नक', 'नन', 'नम', 'नर', 'नस', 'नह', 'पए', 'पक', 'पत', 'पर', 'पहच', 'बह', 'मदत', 'मर', 'यक', 'रत', 'रतन', 'रध', 'रस', 'रह', 'लग', 'लगत', 'लड', 'लढण', 'वजह', 'वन', 'वस', 'सड', 'सबक', 'सर', 'सरrntata2000', 'सल', 'हतक', 'हम', '५००']\n"
     ]
    }
   ],
   "source": [
    "print(x.get_feature_names())"
   ]
  },
  {
   "cell_type": "code",
   "execution_count": null,
   "metadata": {},
   "outputs": [],
   "source": []
  }
 ],
 "metadata": {
  "kernelspec": {
   "display_name": "Python 3",
   "language": "python",
   "name": "python3"
  },
  "language_info": {
   "codemirror_mode": {
    "name": "ipython",
    "version": 3
   },
   "file_extension": ".py",
   "mimetype": "text/x-python",
   "name": "python",
   "nbconvert_exporter": "python",
   "pygments_lexer": "ipython3",
   "version": "3.7.6"
  }
 },
 "nbformat": 4,
 "nbformat_minor": 4
}
