{
 "cells": [
  {
   "cell_type": "markdown",
   "metadata": {},
   "source": [
    "14. Write a python program to solve a quadratic equation of the form 𝑎𝑥2 + 𝑏𝑥 + 𝑐 = 0. Where a, b and c are to be taken by user input. Handle the erroneous input, such as ‘a’ should not be equal to 0. "
   ]
  },
  {
   "cell_type": "code",
   "execution_count": 4,
   "metadata": {},
   "outputs": [
    {
     "name": "stdout",
     "output_type": "stream",
     "text": [
      "Enter the value of a : 5\n",
      "Enter the vlaue of b : 20\n",
      "Enter the value of c : 10\n",
      "There are 2 roots: -0.585786 and -3.414214\n"
     ]
    }
   ],
   "source": [
    "import math\n",
    "from math import sqrt\n",
    "def Roots( a, b, c): \n",
    "  \n",
    "    # If a is 0, then equation is  \n",
    "    # not quadratic, but linear \n",
    "    if a == 0: \n",
    "        print(\"Invalid\") \n",
    "        return -1\n",
    "    r = b**2 - 4*a*c\n",
    "    sqrt_val = math.sqrt(abs(r)) \n",
    "      \n",
    "    if r > 0:\n",
    "        num_roots = 2\n",
    "        x1 = (((-b) + sqrt(r))/(2*a))     \n",
    "        x2 = (((-b) - sqrt(r))/(2*a))\n",
    "        print(\"There are 2 roots: %f and %f\" % (x1, x2))\n",
    "    elif r == 0:\n",
    "        num_roots = 1\n",
    "        x = (-b) / 2*a\n",
    "        print(\"There is one root: \", x)\n",
    "    else:\n",
    "        num_roots = 0\n",
    "        print(\"No roots, discriminant < 0.\") \n",
    "a=int(input(\"Enter the value of a : \"))\n",
    "b=int(input(\"Enter the vlaue of b : \"))\n",
    "c=int(input(\"Enter the value of c : \"))\n",
    "Roots(a,b,c)"
   ]
  },
  {
   "cell_type": "markdown",
   "metadata": {},
   "source": [
    "Write a python program to find the sum of first ‘n’ natural numbers without using any loop. Ask user to input the value of ‘n’"
   ]
  },
  {
   "cell_type": "code",
   "execution_count": 6,
   "metadata": {},
   "outputs": [
    {
     "name": "stdout",
     "output_type": "stream",
     "text": [
      "Enter the number 50\n",
      "Sum of fthe irst  50 natural numbers is:  1275.0\n"
     ]
    }
   ],
   "source": [
    "n = int(input(\"Enter the number \"))\n",
    "sum = n * (n+1) / 2\n",
    "average  = ( n * (n+1) / 2) / n\n",
    "print(\"Sum of fthe irst \", n, \"natural numbers is: \", sum )"
   ]
  },
  {
   "cell_type": "code",
   "execution_count": 4,
   "metadata": {},
   "outputs": [],
   "source": []
  },
  {
   "cell_type": "code",
   "execution_count": null,
   "metadata": {},
   "outputs": [],
   "source": []
  }
 ],
 "metadata": {
  "kernelspec": {
   "display_name": "Python 3",
   "language": "python",
   "name": "python3"
  },
  "language_info": {
   "codemirror_mode": {
    "name": "ipython",
    "version": 3
   },
   "file_extension": ".py",
   "mimetype": "text/x-python",
   "name": "python",
   "nbconvert_exporter": "python",
   "pygments_lexer": "ipython3",
   "version": "3.7.6"
  }
 },
 "nbformat": 4,
 "nbformat_minor": 4
}
